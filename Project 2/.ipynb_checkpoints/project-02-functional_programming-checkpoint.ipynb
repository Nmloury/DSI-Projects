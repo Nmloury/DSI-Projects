{
 "cells": [
  {
   "cell_type": "markdown",
   "metadata": {},
   "source": [
    "### Functional Programming in Python\n",
    "In class, we briefly explored the Functional Programming in Python through lambda functions, map, filter, iterators, generators, and deocrators. This note will review those ideas. "
   ]
  },
  {
   "cell_type": "markdown",
   "metadata": {},
   "source": [
    "#### Lambda Functions \n",
    "The `lambda` keyword creates anonymous functions within Python. Programmers usually use `lambda` out of convenience because they don't require explicitly defining a new function. This is especially useful when the function you are writing won't be used again outside a particular context. `lambda`s usually serve as an input function to higher order functions (that require functional input), i.e. `map`, `filter`, `pandas.apply`, and others alike."
   ]
  },
  {
   "cell_type": "code",
   "execution_count": 2,
   "metadata": {
    "collapsed": false
   },
   "outputs": [
    {
     "name": "stdout",
     "output_type": "stream",
     "text": [
      "4\n",
      "5\n",
      "General Assembly\n",
      "Specific Assembly\n"
     ]
    }
   ],
   "source": [
    "# Before compiling the following code snippets, write down what\n",
    "# each individual lambda function will return in an inline comment. \n",
    "# If you think it returns an error, why would it be the case. \n",
    " \n",
    "    \n",
    "print (lambda val: val** 2) (2)\n",
    "# 4\n",
    "\n",
    "print (lambda x, y: x + y)(2, 3)\n",
    "# 5\n",
    "\n",
    "# (lambda x, y: x + y)((2, 3))\n",
    "# Error, it's expecting two input and only got one (a tuple)\n",
    "\n",
    "ga = (lambda s: s if 'General' in s else 'Specific ' + s)\n",
    "print ga('General Assembly')\n",
    "# 'General Assembly'\n",
    "\n",
    "print ga('Assembly')\n",
    "# 'Specific Assembly'"
   ]
  },
  {
   "cell_type": "markdown",
   "metadata": {},
   "source": [
    "### Comprehensions \n",
    "\n",
    "In Python, you can build sequences using list comprehensions or generator expressions. Such expressions make your code more readable and often faster to execute. \n",
    "\n",
    "Exercise: Transform the following piece of code into a list comprehension.\n",
    "\n",
    "    letters = string.ascii_uppercase\n",
    "    letters_idx = []\n",
    "    for letter in letters:\n",
    "        letters_idx.append(letters.index(letter))\n",
    "    print letters_idx\n",
    "    \n",
    "\n",
    "Exercise: Create a Cartesian product of t-shirt colors/sizes using a list comprehension. \n",
    "    \n",
    "    Inputs: \n",
    "    colors = ['black', 'white']\n",
    "    sizes = ['S', 'M', 'L']\n",
    "    \n",
    "    Output: \n",
    "    [('black', 'S'), ('black', 'M'), ('black', 'L'), \n",
    "     ('white', 'S'), ('white', 'M'), ('white', 'L')]\n",
    "     \n",
    "     \n",
    "Exercise: In the output above, change the 'S' size to 'Small' and 'M' and 'L' to be 'Large'. \n",
    "\n",
    "Exercise: What are the other types of comprehensions and how are they different from list comprehensions?\n",
    "\n",
    "While `for loop` can be general and do things beyond just outputting a list, list comprehensions are designed to build a new list. Don’t use that syntax if you are not doing something with the produced list. Additionally, if the list comprehension spans more than two lines, it is probably best to break it apart or rewrite as a plain old `for loop`."
   ]
  },
  {
   "cell_type": "code",
   "execution_count": 5,
   "metadata": {
    "collapsed": false
   },
   "outputs": [
    {
     "name": "stdout",
     "output_type": "stream",
     "text": [
      "[0, 1, 2, 3, 4, 5, 6, 7, 8, 9, 10, 11, 12, 13, 14, 15, 16, 17, 18, 19, 20, 21, 22, 23, 24, 25]\n"
     ]
    }
   ],
   "source": [
    "# Exercise: Transform the following piece of code into a list comprehension.\n",
    "import string\n",
    "letters = string.ascii_uppercase\n",
    "letters_idx = [letters.index(letter) for letter in letters]\n",
    "print letters_idx"
   ]
  },
  {
   "cell_type": "code",
   "execution_count": 9,
   "metadata": {
    "collapsed": false
   },
   "outputs": [
    {
     "data": {
      "text/plain": [
       "[('black', 'S'),\n",
       " ('black', 'M'),\n",
       " ('black', 'L'),\n",
       " ('white', 'S'),\n",
       " ('white', 'M'),\n",
       " ('white', 'L')]"
      ]
     },
     "execution_count": 9,
     "metadata": {},
     "output_type": "execute_result"
    }
   ],
   "source": [
    "# Exercise: Create a Cartesian product of t-shirt colors/sizes using a list comprehension\n",
    "colors = ['black', 'white']\n",
    "sizes = ['S', 'M', 'L']\n",
    "\n",
    "color_size = [(color, size) for color in colors for size in sizes]\n",
    "color_size"
   ]
  },
  {
   "cell_type": "code",
   "execution_count": 11,
   "metadata": {
    "collapsed": false
   },
   "outputs": [
    {
     "data": {
      "text/plain": [
       "[('black', 'Small'),\n",
       " ('black', 'Large'),\n",
       " ('black', 'Large'),\n",
       " ('white', 'Small'),\n",
       " ('white', 'Large'),\n",
       " ('white', 'Large')]"
      ]
     },
     "execution_count": 11,
     "metadata": {},
     "output_type": "execute_result"
    }
   ],
   "source": [
    "# Exercise: In the output above, change the 'S' size to 'Small' and 'M' and 'L' to be 'Large'\n",
    "\n",
    "\n",
    "color_size2 = [(color, \"Small\") if size == 'S' else (color, \"Large\") for color in colors for size in sizes]\n",
    "color_size2"
   ]
  },
  {
   "cell_type": "markdown",
   "metadata": {},
   "source": [
    "Exercise: What are the other types of comprehensions and how are they different from list comprehensions?\n",
    "\n",
    "There are two other types of comprehensions besides list comprehensions, tuple comprehensions and dictionary comprehensions. tuple comprehensions are used to generate tuples and dictionary comprehansions are used to generate dictionaries."
   ]
  },
  {
   "cell_type": "markdown",
   "metadata": {},
   "source": [
    "### Higher Order functions\n",
    "Higher order functions take in function as an argument OR returns a function as result is a higher order\n",
    "function. Some of the examples we have discussed so far are `map`, `sorted`, `filter`. \n",
    "\n",
    "`map(func, iterable)` applies the function over elements of an iterable. If you have multiple iterables, then `map(func, zip(iterA, iterB, iterC))` where your function takes in as many arguments \n",
    "\n",
    "From module: `functools`, recall the function `reduce`. `functools.reduce(function, iterable[, initializer])`. \n",
    "\n",
    "Exercise: Read through the Blog Post on MapReduce (http://michaelnielsen.org/blog/write-your-first-mapreduce-program-in-20-minutes/) [no need to implement] and explain how it's related to the `map` and `reduce` functions we have covered. \n",
    "\n",
    "`filter(pred, iterable)` applies a function that returns a bool value to each item in the iterable and returns only the items for which this is true. \n",
    "\n",
    "\n",
    "\n",
    "`sorted(iterable, key=func)` takes in an optional key argument that allows you to provide a function to be applied to each item for sorting. \n",
    "\n",
    "Beyond `sorted`, `max(seq)`, `min(seq)`, and `seq.sort()` also use keys to determine the values used for ordering elements in a sequence.\n",
    "\n",
    "\n",
    "Exercise: What do the following uses of `sorted` return?\n",
    "    \n",
    "    # first example \n",
    "    fruits = ['strawberry','fig','apple','cherry','raspberry','banana']\n",
    "    sorted(fruits, key=len)\n",
    "    \n",
    "    # second example\n",
    "    sorted(fruits, key=lambda word: word[::-1])\n",
    "    \n",
    "   \n",
    "    \n",
    "Exercise: Write a function to return the two words with the highest alphanumeric score of uppercase letters:\n",
    "\n",
    "    def alpha_score(upper_letters):\n",
    "         \"\"\"\n",
    "         Computers the alphanumeric sum of letters in a\n",
    "         string. Prerequisite: upper_letters is composed\n",
    "         entirely of capital letters.\n",
    "         \n",
    "         \"\"\"\n",
    "        return sum(map(lambda l: 1 + ord(l) - ord('A'), upper_letters))\n",
    "\n",
    "    \n",
    "    alpha_score('ABC')  # => 6 = 1 ('A') + 2 ('B') + 3 ('C')\n",
    "\n",
    "    \n",
    "    def two_best(words):\n",
    "        pass  # Your implementation here\n",
    "\n",
    "    two_best(['hEllO', 'wOrLD', 'i', 'aM', 'PyThOn'])\n",
    "  "
   ]
  },
  {
   "cell_type": "code",
   "execution_count": 13,
   "metadata": {
    "collapsed": false
   },
   "outputs": [
    {
     "data": {
      "text/plain": [
       "['fig', 'apple', 'cherry', 'banana', 'raspberry', 'strawberry']"
      ]
     },
     "execution_count": 13,
     "metadata": {},
     "output_type": "execute_result"
    }
   ],
   "source": [
    "# Exercise: What do the following uses of sorted return?\n",
    "# first example \n",
    "fruits = ['strawberry','fig','apple','cherry','raspberry','banana']\n",
    "sorted(fruits, key=len)\n",
    "# This will return fruits sorted by the length of the word from shortest to longest.\n",
    "\n",
    "\n",
    "# second example\n",
    "sorted(fruits, key=lambda word: word[::-1])\n",
    "# This will return fruits sorted alphabetically, but starting from the end of the word instead of the beginning"
   ]
  },
  {
   "cell_type": "code",
   "execution_count": 30,
   "metadata": {
    "collapsed": false
   },
   "outputs": [
    {
     "data": {
      "text/plain": [
       "['PyThOn', 'wOrLD']"
      ]
     },
     "execution_count": 30,
     "metadata": {},
     "output_type": "execute_result"
    }
   ],
   "source": [
    "# Exercise: Write a function to return the two words with the highest alphanumeric score of uppercase letters:\n",
    "def alpha_score(upper_letters):\n",
    "    return sum(map(lambda l: 1 + ord(l) - ord('A'), upper_letters))\n",
    "\n",
    "# alpha_score('ABC')  # => 6 = 1 ('A') + 2 ('B') + 3 ('C')\n",
    "\n",
    "def two_best(words):\n",
    "    words_cap = lambda x: x.translate(None, string.ascii_lowercase)\n",
    "    sorted_words = sorted(words, key=lambda x: alpha_score(words_cap(x)), reverse = True)\n",
    "    return sorted_words[:2]\n",
    "    \n",
    "\n",
    "two_best(['hEllO', 'wOrLD', 'i', 'aM', 'PyThOn'])"
   ]
  },
  {
   "cell_type": "markdown",
   "metadata": {},
   "source": [
    "### Iterables vs. Generators \n",
    "\n",
    "Iterator object represents a stream of data returned one value at a time. Meanwhile, generators lazily compute the values on the fly without holding the contents of the list in place in memory. \n",
    "\n",
    "\n",
    "[Expert] Exercise: For each of the following scenarios, discuss whether it would be more appropriate to use a generator expression or a list comprehension:\n",
    "- Searching for a given entity in the entries of a 1TB database.\n",
    "- Calculate cheap airfare using journey-to-destination flight information.\n",
    "- Finding the first palindromic Fibonacci number greater than 1,000,000.\n",
    "- Determine all multi-word anagrams of user-supplied 1000-character-or-more strings (very expensive to do).\n",
    "- Return a list of all startups within 50 miles of San Francisco. \n",
    "\n",
    "\n",
    "[Challenge] Exercise: In class, we dicussed how to generate primes using the following function. \n",
    "\n",
    "    def primes_under(n):\n",
    "    tests = []\n",
    "    for i in range(2, n):\n",
    "        if not any(map(lambda test: test(i), tests)):\n",
    "            tests.append(make_divisibility_test(i))\n",
    "            yield i\n",
    "\n",
    "Change this function to generate composites. What is the 1000th composite number?"
   ]
  },
  {
   "cell_type": "markdown",
   "metadata": {},
   "source": [
    "[Expert] Exercise: For each of the following scenarios, discuss whether it would be more appropriate to use a generator expression or a list comprehension:\n",
    "- Searching for a given entity in the entries of a 1TB database.\n",
    "    - It makes more sense to use a generator because you would never be able to hold such a large database in memory at one time\n",
    "\n",
    "\n",
    "- Calculate cheap airfare using journey-to-destination flight information.\n",
    "    - It would make sense to use an \n",
    "\n",
    "- Finding the first palindromic Fibonacci number greater than 1,000,000.\n",
    "    - It makes sense to use a generator here so that you don't have to hold all of the values in a list and just call the generator until the condition is reached and return the correct value.\n",
    "\n",
    "- Determine all multi-word anagrams of user-supplied 1000-character-or-more strings (very expensive to do).\n",
    "    - It makes sense to use a generator here because it is so computationally expensive to do.\n",
    "\n",
    "- Return a list of all startups within 50 miles of San Francisco. \n",
    "    - It would be better to use a list comprehension here so that you could loop through a list of startups and return the ones that met the condition of being within 50 miles of San Francisco"
   ]
  },
  {
   "cell_type": "markdown",
   "metadata": {},
   "source": [
    "What is the 1000th composite number?"
   ]
  },
  {
   "cell_type": "code",
   "execution_count": 86,
   "metadata": {
    "collapsed": false
   },
   "outputs": [
    {
     "data": {
      "text/plain": [
       "1197"
      ]
     },
     "execution_count": 86,
     "metadata": {},
     "output_type": "execute_result"
    }
   ],
   "source": [
    "def make_divisibility_test(i):\n",
    "    def divisibility_test(n):\n",
    "        return not bool(n%i)\n",
    "    return divisibility_test\n",
    "\n",
    "def generate_composites():\n",
    "    tests = []\n",
    "    i = 2\n",
    "    while True:\n",
    "        if not any(map(lambda test: test(i), tests)):\n",
    "            tests.append(make_divisibility_test(i))\n",
    "        else:\n",
    "            yield i\n",
    "        i += 1\n",
    "\n",
    "def composite(n):\n",
    "    'Returns the nth composite number'\n",
    "    gen = generate_composites()\n",
    "    for i in range(n):\n",
    "        comp = gen.next()\n",
    "    return comp\n",
    "\n",
    "composite(1000)"
   ]
  },
  {
   "cell_type": "markdown",
   "metadata": {},
   "source": [
    "### Decorators \n",
    "\n",
    "Functional decorators are essentially syntactic sugar that help you anotate and simplify your code. While decorators may seem abstract right now, they pop up all over the place when reading large codebases. Thus, it's important to have an understanding of what they do and why they could be useful. \n",
    "\n",
    "As mentioned in class, decorators take another function as an argument. They may perform some processing with the decorated function and return it or replace it with another function. More concretely, the following two snippets of code return the same output: \n",
    "\n",
    "    @decorate\n",
    "    def target():\n",
    "        print 'running target()'\n",
    "     \n",
    "    def target():\n",
    "        print running target()\n",
    "    \n",
    "    target = decorate(target)\n",
    "\n",
    "\n",
    "Deocrators help reduce the repetition in your code. While repetition may seem harmless, it can introduce subtle bugs into your system. Take the use case of an e-commerce app that keeps track of the promos/coupons being offered on the site. As the company introduces new types of promotional deals, it will probably write new functions to calculate the discount % for that customer associated with the promo. However, we also want to maintain a master list of all of the promos to keep track of the `best_promo`."
   ]
  },
  {
   "cell_type": "code",
   "execution_count": 34,
   "metadata": {
    "collapsed": false
   },
   "outputs": [],
   "source": [
    "# in the snippet below \n",
    "promos = []\n",
    "def promotion(promo_func):\n",
    "    promos.append(promo_func)\n",
    "    return promo_func\n",
    "\n",
    "@promotion\n",
    "def fidelity(order):\n",
    "    \"\"\"5% discount for customers with 1000 or more fidelity points\"\"\"\n",
    "    return order.total() * .05 if order.customer.fidelity >= 1000 else 0\n",
    "\n",
    "@promotion\n",
    "def bulk_item(order):\n",
    "    \"\"\"10% discount for each LineItem with 20 or more units\"\"\"\n",
    "    discount = 0\n",
    "    for item in order.cart:\n",
    "        if item.quantity >= 20:\n",
    "            discount += item.total() * .1\n",
    "    return discount\n",
    "\n",
    "\n",
    "@promotion\n",
    "def large_order(order):\n",
    "    \"\"\" 7% discount for orders with 10 or more distinct items\"\"\"\n",
    "    distinct_items = {item.product for item in order.cart}\n",
    "    if len(distinct_items) >= 10:\n",
    "        return order.total() * .07\n",
    "    return 0\n",
    "\n",
    "def best_promo(order):\n",
    "    \"\"\"\n",
    "    Select best discount available\n",
    "\n",
    "    \"\"\"\n",
    "    return max(promo(order) for promo in promos)"
   ]
  },
  {
   "cell_type": "markdown",
   "metadata": {},
   "source": [
    "In the code above, `promos` list starts out empty. `promotion` decorator returns `promo_func` unchanged but appends it to the `promos` list. Any function decorated by @promotion will be added to promos. This thus becomes an easy way to add items to the master promos list as new promotions are going live. "
   ]
  },
  {
   "cell_type": "markdown",
   "metadata": {},
   "source": [
    "Exercise: Familiarize yourself with the ipyparallel (http://people.duke.edu/~ccc14/sta-663-2016/19C_IPyParallel.html). Elaborate on why @remote and @parallel are useful decorators and specifically why could they come in handy when you are implementing ML algorithms that are easily parallelizable. "
   ]
  },
  {
   "cell_type": "markdown",
   "metadata": {},
   "source": [
    "@remote is a useful decorator because it allows decorated functions execute simultaneously on all engines in a view. This gives the user a lot of control over where a specific function will be run without having to specify every time you call the function\n",
    "\n",
    "@parallel decorator breaks up elementwise operations and distributes them. This could be very useful while implementing parallelizable ML algorithms because it easily allows the user to map an elementwise operation to a variety of engines in order to complete the operation much faster."
   ]
  },
  {
   "cell_type": "markdown",
   "metadata": {},
   "source": [
    "[Expert] Exercise: Describe how @property and @lazy property are being used to build a pipeline for Tensorflow Models in this blog post: https://danijar.com/structuring-your-tensorflow-models/"
   ]
  },
  {
   "cell_type": "markdown",
   "metadata": {},
   "source": [
    "@property is a decorator that triggers function calls upon access to an attribute. It helps whenever a user interface has granted attribute access and then subsequent changes require the intervention of a method.\n",
    "\n",
    "@lazyproperty is a decorator that functions like @property but only evaluates the function once. It caches the result in a member(?) named after the function and returns this value on any subsequent calls instead of having to reevaluate the function an additional time."
   ]
  },
  {
   "cell_type": "markdown",
   "metadata": {},
   "source": [
    "[Expert] Exercise: Explore how decorators are used in Flask through these bloog posts (http://flask.pocoo.org/docs/0.11/quickstart/; http://flask.pocoo.org/docs/0.11/patterns/viewdecorators/). Describe your findings."
   ]
  },
  {
   "cell_type": "markdown",
   "metadata": {},
   "source": [
    "It seems as though Flask is using decorators (specifically @app.route) to bind functions to URLs. They can be used to pass variable parts of the URL as a keyword argument to your function. This allows you to route the user around your site dependent on their inputs (i.e. send them to their profile page)."
   ]
  },
  {
   "cell_type": "markdown",
   "metadata": {},
   "source": [
    "[Challenge] Exercise: Automatic Caching\n",
    "\n",
    "Write the `cache`  decorator that automatically caches any calls to the decorated function. You can assume that all arguments passed to the decorated function will always be hashable types. Can you think of reasons why such a decorator would be useful?\n",
    "\n",
    "Note: This is functionality is implemented as a decorator with functools.lru_cache"
   ]
  },
  {
   "cell_type": "code",
   "execution_count": 15,
   "metadata": {
    "collapsed": false
   },
   "outputs": [
    {
     "data": {
      "text/plain": [
       "176023680645013966468226945392411250770384383304492191886725992896575345044216019675L"
      ]
     },
     "execution_count": 15,
     "metadata": {},
     "output_type": "execute_result"
    }
   ],
   "source": [
    "def cache(function):\n",
    "    cache_dict = {}\n",
    "    def wrapper(*args):\n",
    "        if args in cache_dict:\n",
    "            return cache_dict[args]\n",
    "        else:\n",
    "            value = function(*args)\n",
    "            cache_dict[args] = value\n",
    "            return value\n",
    "    return wrapper\n",
    "\n",
    "@cache\n",
    "def fib(n):\n",
    "    return int(fib(n-1) + fib(n-2) if n > 2 else 1)\n",
    "\n",
    "fib(10)  # 55 (takes a moment to execute)\n",
    "fib(10)  # 55 (returns immediately)\n",
    "fib(100) # doesn't take forever\n",
    "fib(400) # doesn't raise RuntimeError"
   ]
  },
  {
   "cell_type": "markdown",
   "metadata": {},
   "source": [
    "This decorator could be extremely useful because it can cache the result of computationally expensive function. Then, if you need to call the function again with the same arguments, it can just consult the cache_dict and return the value associated with those arguments."
   ]
  }
 ],
 "metadata": {
  "anaconda-cloud": {},
  "kernelspec": {
   "display_name": "Python [dsi]",
   "language": "python",
   "name": "Python [dsi]"
  },
  "language_info": {
   "codemirror_mode": {
    "name": "ipython",
    "version": 2
   },
   "file_extension": ".py",
   "mimetype": "text/x-python",
   "name": "python",
   "nbconvert_exporter": "python",
   "pygments_lexer": "ipython2",
   "version": "2.7.12"
  }
 },
 "nbformat": 4,
 "nbformat_minor": 1
}
