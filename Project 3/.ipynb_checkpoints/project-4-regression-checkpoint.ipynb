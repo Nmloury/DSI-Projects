{
 "cells": [
  {
   "cell_type": "markdown",
   "metadata": {},
   "source": [
    "<img src=\"http://imgur.com/1ZcRyrc.png\" style=\"float: left; margin: 15px; height: 80px\">\n",
    "\n",
    "# Project 4\n",
    "\n",
    "## San Francisco Data\n",
    "\n",
    "---\n",
    "\n",
    "[San Francisco provides a wealth of data on the city to the public.](https://data.sfgov.org/) Project 4 is all about exploring this data and modeling interesting relationships with regression.\n",
    "\n",
    "Project 4 is also much more open-ended than the previous projects. You are more responsible for finding things about the data that interest you, coming up with your own hypothesis about it, and reporting on the analysis you carry out. That being said, there are still specific requirements and restrictions on the type of models you will be constructing.\n",
    "\n",
    "---\n",
    "\n",
    "## Notes on the data\n",
    "\n",
    "We have gone through the above website and pulled out a variety of different datasets that we think are particularly interesting. Some of the datasets are from external sources as well, but all are related to San Francisco. A high level overview of data folders is provided after the project requirements section.\n",
    "\n",
    "**There is a lot of different data. You are _NOT_ expected to explore all of it or include all of it in analyses.** The point of the project is to focus on aspects of San Francisco that are particularly interesting to you from a modeling point of view. \n",
    "\n",
    "**The uncompressed data is a large filesize.** Even the compressed data is pretty large. The data is compressed into a .7z format which has one of the smallest filesizes available. You will likely need a 3rd party app to extract it. \n",
    "\n",
    "### Recommended Utilities for .7z\n",
    "- For OSX [Keka](http://www.kekaosx.com/en/) or [The Unarchiver](http://wakaba.c3.cx/s/apps/unarchiver.html). \n",
    "- For Windows [7-zip](http://www.7-zip.org/) is the standard. \n",
    "- For Linux try the `p7zip` utility.  `sudo apt-get install p7zip`.\n",
    "\n",
    "---\n",
    "\n",
    "## Project requirements\n",
    "\n",
    "**You will be performing 4 different sections of analysis on the San Francisco data.**\n",
    "\n",
    "**Models must be regression. This means that your target variable needs to be numeric/continuous**\n",
    "\n",
    "Do not perform classification models – this will be the topic of week 4.\n"
   ]
  },
  {
   "cell_type": "code",
   "execution_count": 441,
   "metadata": {
    "collapsed": false
   },
   "outputs": [],
   "source": [
    "# import modules\n",
    "import numpy as np\n",
    "import scipy.stats as stats\n",
    "import pandas as pd\n",
    "\n",
    "import matplotlib as mpl\n",
    "import matplotlib.pyplot as plt\n",
    "import seaborn as sns\n",
    "\n",
    "from sklearn import linear_model\n",
    "from sklearn.metrics import mean_squared_error\n",
    "from sklearn.grid_search import GridSearchCV\n",
    "from sklearn.cross_validation import train_test_split, KFold\n",
    "\n",
    "\n",
    "plt.style.use('fivethirtyeight')\n",
    "%matplotlib inline"
   ]
  },
  {
   "cell_type": "markdown",
   "metadata": {},
   "source": [
    "<img src=\"http://imgur.com/l5NasQj.png\" style=\"float: left; margin: 25px 15px 0px 0px; height: 25px\">\n",
    "\n",
    "### 1. Choose a dataset or datasets of interest to you and perform EDA\n",
    "\n",
    "---\n",
    "\n",
    "1. Explain what the data is. This may include multiple csv files. Some of this data has hard to understand codes representing the variables. Nearly all data is pulled from https://data.sfgov.org/ so this is a very good resource for determining what the data is.\n",
    "- Clean the data.\n",
    "- Develop and state clearly a hypothesis about the data that you would want to test.\n",
    "- Create some initial visualizations on the portions of the data relevant to your hypothesis."
   ]
  },
  {
   "cell_type": "markdown",
   "metadata": {},
   "source": [
    "Hypothesis:\n",
    "    \n",
    "over 50% of the variance in Property Area Land Value can be explained using numerical data from the SF Assessor office."
   ]
  },
  {
   "cell_type": "code",
   "execution_count": 569,
   "metadata": {
    "collapsed": false
   },
   "outputs": [],
   "source": [
    "# Get Data and Column names\n",
    "assessor = pd.read_csv('./san_francisco/assessor_office/assessor_data_2007_2008.csv')\n",
    "\n",
    "assessor_columns = pd.read_csv('./san_francisco/assessor_office/assessor_data_key.csv')\n",
    "\n",
    "assessor_dict = dict(zip(assessor_columns.iloc[:,0], assessor_columns.iloc[:,1]))\n",
    "assessor_dict['RP1RECDAT1'] = 'RECORDATION DATE'\n",
    "\n",
    "assessor.rename(columns=assessor_dict, inplace=True)"
   ]
  },
  {
   "cell_type": "code",
   "execution_count": 570,
   "metadata": {
    "collapsed": false
   },
   "outputs": [
    {
     "data": {
      "text/html": [
       "<div>\n",
       "<table border=\"1\" class=\"dataframe\">\n",
       "  <thead>\n",
       "    <tr style=\"text-align: right;\">\n",
       "      <th></th>\n",
       "      <th>DATA NAME</th>\n",
       "      <th>FIELD NAME</th>\n",
       "      <th>FIELD DESCRIPTION</th>\n",
       "    </tr>\n",
       "  </thead>\n",
       "  <tbody>\n",
       "    <tr>\n",
       "      <th>0</th>\n",
       "      <td>PROPLOC</td>\n",
       "      <td>Property Location</td>\n",
       "      <td>Situs/Location, as well as room/unit number</td>\n",
       "    </tr>\n",
       "    <tr>\n",
       "      <th>1</th>\n",
       "      <td>RP1NBRCDE</td>\n",
       "      <td>Neighborhood Code</td>\n",
       "      <td>ASR neighborhood code based on MLS districts</td>\n",
       "    </tr>\n",
       "    <tr>\n",
       "      <th>2</th>\n",
       "      <td>RP1PRCLID</td>\n",
       "      <td>Block and Lot Number</td>\n",
       "      <td>Block and Lot Number (Full APN)</td>\n",
       "    </tr>\n",
       "    <tr>\n",
       "      <th>3</th>\n",
       "      <td>RP1VOLUME</td>\n",
       "      <td>Volume Number</td>\n",
       "      <td>Volume number</td>\n",
       "    </tr>\n",
       "    <tr>\n",
       "      <th>4</th>\n",
       "      <td>RP1CLACDE</td>\n",
       "      <td>Property Class Code</td>\n",
       "      <td>Property type</td>\n",
       "    </tr>\n",
       "    <tr>\n",
       "      <th>5</th>\n",
       "      <td>YRBLT</td>\n",
       "      <td>Year Property Built</td>\n",
       "      <td>Year improvement was built (can be blend of or...</td>\n",
       "    </tr>\n",
       "    <tr>\n",
       "      <th>6</th>\n",
       "      <td>BATHS</td>\n",
       "      <td>Number of Bathrooms</td>\n",
       "      <td>Number of bathrooms (BA with no shower or tub ...</td>\n",
       "    </tr>\n",
       "    <tr>\n",
       "      <th>7</th>\n",
       "      <td>BEDS</td>\n",
       "      <td>Number of Bedrooms</td>\n",
       "      <td>Number of bedrooms (bedrooms have a closet)</td>\n",
       "    </tr>\n",
       "    <tr>\n",
       "      <th>8</th>\n",
       "      <td>ROOMS</td>\n",
       "      <td>Number of Rooms</td>\n",
       "      <td>Number of rooms, excluding bathrooms, halls, c...</td>\n",
       "    </tr>\n",
       "    <tr>\n",
       "      <th>9</th>\n",
       "      <td>STOREYNO</td>\n",
       "      <td>Number of Stories</td>\n",
       "      <td>Number of stories</td>\n",
       "    </tr>\n",
       "    <tr>\n",
       "      <th>10</th>\n",
       "      <td>UNITS</td>\n",
       "      <td>Number of Units</td>\n",
       "      <td>Number of units</td>\n",
       "    </tr>\n",
       "    <tr>\n",
       "      <th>11</th>\n",
       "      <td>CHGDATE</td>\n",
       "      <td>Characteristics Change Date (YYMM)</td>\n",
       "      <td>Date of change to property characteristics</td>\n",
       "    </tr>\n",
       "    <tr>\n",
       "      <th>12</th>\n",
       "      <td>ZONE</td>\n",
       "      <td>Zoning Code</td>\n",
       "      <td>Zone code</td>\n",
       "    </tr>\n",
       "    <tr>\n",
       "      <th>13</th>\n",
       "      <td>CONSTTYPE</td>\n",
       "      <td>Construction Type</td>\n",
       "      <td>Generally type of construction</td>\n",
       "    </tr>\n",
       "    <tr>\n",
       "      <th>14</th>\n",
       "      <td>DEPTH</td>\n",
       "      <td>Lot Depth</td>\n",
       "      <td>Depth of lot in linear feet</td>\n",
       "    </tr>\n",
       "    <tr>\n",
       "      <th>15</th>\n",
       "      <td>FRONT</td>\n",
       "      <td>Lot Frontage</td>\n",
       "      <td>Linear footage of front facing side of lot (fr...</td>\n",
       "    </tr>\n",
       "    <tr>\n",
       "      <th>16</th>\n",
       "      <td>SQFT</td>\n",
       "      <td>Property Area in Square Feet</td>\n",
       "      <td>Same as lot area</td>\n",
       "    </tr>\n",
       "    <tr>\n",
       "      <th>17</th>\n",
       "      <td>FBA</td>\n",
       "      <td>Basement Area</td>\n",
       "      <td>Square footage of basement</td>\n",
       "    </tr>\n",
       "    <tr>\n",
       "      <th>18</th>\n",
       "      <td>LAREA</td>\n",
       "      <td>Lot Area</td>\n",
       "      <td>Square footage of lot</td>\n",
       "    </tr>\n",
       "    <tr>\n",
       "      <th>19</th>\n",
       "      <td>LOTCODE</td>\n",
       "      <td>Lot Code</td>\n",
       "      <td>lot shapes, could be Rectangle, Square or Other</td>\n",
       "    </tr>\n",
       "    <tr>\n",
       "      <th>20</th>\n",
       "      <td>REPRISDATE</td>\n",
       "      <td>Prior Sales Date (YYMMDD)</td>\n",
       "      <td>prior sale date</td>\n",
       "    </tr>\n",
       "    <tr>\n",
       "      <th>21</th>\n",
       "      <td>RP1RECDAT1</td>\n",
       "      <td>RECORDATION DATE ‘99/99/99’</td>\n",
       "      <td>Recordation date (YYMMDD)</td>\n",
       "    </tr>\n",
       "    <tr>\n",
       "      <th>22</th>\n",
       "      <td>RP1DOCNO1</td>\n",
       "      <td>Document Number</td>\n",
       "      <td>Recorded document number #1</td>\n",
       "    </tr>\n",
       "    <tr>\n",
       "      <th>23</th>\n",
       "      <td>RP1DOCNO2</td>\n",
       "      <td>Document Number</td>\n",
       "      <td>Recorded document number #2</td>\n",
       "    </tr>\n",
       "    <tr>\n",
       "      <th>24</th>\n",
       "      <td>RP1TRACDE</td>\n",
       "      <td>Tax Rate Area Code</td>\n",
       "      <td>Tax rate dependent on location within the City</td>\n",
       "    </tr>\n",
       "    <tr>\n",
       "      <th>25</th>\n",
       "      <td>OWNRPRCNT</td>\n",
       "      <td>Percent of Ownership</td>\n",
       "      <td>Percent of ownership</td>\n",
       "    </tr>\n",
       "    <tr>\n",
       "      <th>26</th>\n",
       "      <td>EXEMPTYPE</td>\n",
       "      <td>Closed Roll Exemption Type Code</td>\n",
       "      <td>Exemption Code (see below for descriptions)</td>\n",
       "    </tr>\n",
       "    <tr>\n",
       "      <th>27</th>\n",
       "      <td>RP1STACDE</td>\n",
       "      <td>Closed Roll Status Code</td>\n",
       "      <td>i.e. Taxable, Non-Taxable, SBE, etc.</td>\n",
       "    </tr>\n",
       "    <tr>\n",
       "      <th>28</th>\n",
       "      <td>RP1EXMVL2</td>\n",
       "      <td>Closed Roll Misc. Exemption Value</td>\n",
       "      <td>Exemptions such as welfare</td>\n",
       "    </tr>\n",
       "    <tr>\n",
       "      <th>29</th>\n",
       "      <td>RP1EXMVL1</td>\n",
       "      <td>Closed Roll Homeowner Exemption Value</td>\n",
       "      <td>Homeowner's exemption</td>\n",
       "    </tr>\n",
       "    <tr>\n",
       "      <th>30</th>\n",
       "      <td>ROLLYEAR</td>\n",
       "      <td>Closed Roll Year</td>\n",
       "      <td>Roll Year</td>\n",
       "    </tr>\n",
       "    <tr>\n",
       "      <th>31</th>\n",
       "      <td>RECURRSALD</td>\n",
       "      <td>Current Sales Date (YYMMDD)</td>\n",
       "      <td>current sale date</td>\n",
       "    </tr>\n",
       "    <tr>\n",
       "      <th>32</th>\n",
       "      <td>RP1FXTVAL</td>\n",
       "      <td>Closed Roll Assessed Fixtures Value</td>\n",
       "      <td>Assessed value of fixtures</td>\n",
       "    </tr>\n",
       "    <tr>\n",
       "      <th>33</th>\n",
       "      <td>RP1IMPVAL</td>\n",
       "      <td>Closed Roll Assessed Improvement Value</td>\n",
       "      <td>Assessed value of improvements</td>\n",
       "    </tr>\n",
       "    <tr>\n",
       "      <th>34</th>\n",
       "      <td>RP1LNDVAL</td>\n",
       "      <td>Closed Roll Assessed Land Value</td>\n",
       "      <td>Assessed value of land</td>\n",
       "    </tr>\n",
       "    <tr>\n",
       "      <th>35</th>\n",
       "      <td>RP1PPTVAL</td>\n",
       "      <td>Closed Roll Assessed Personal Prop Value</td>\n",
       "      <td>Assessed value of personal property</td>\n",
       "    </tr>\n",
       "  </tbody>\n",
       "</table>\n",
       "</div>"
      ],
      "text/plain": [
       "     DATA NAME                                FIELD NAME  \\\n",
       "0      PROPLOC                         Property Location   \n",
       "1    RP1NBRCDE                         Neighborhood Code   \n",
       "2    RP1PRCLID                      Block and Lot Number   \n",
       "3    RP1VOLUME                             Volume Number   \n",
       "4    RP1CLACDE                       Property Class Code   \n",
       "5        YRBLT                       Year Property Built   \n",
       "6        BATHS                       Number of Bathrooms   \n",
       "7         BEDS                        Number of Bedrooms   \n",
       "8        ROOMS                           Number of Rooms   \n",
       "9     STOREYNO                         Number of Stories   \n",
       "10       UNITS                           Number of Units   \n",
       "11     CHGDATE        Characteristics Change Date (YYMM)   \n",
       "12        ZONE                               Zoning Code   \n",
       "13   CONSTTYPE                         Construction Type   \n",
       "14       DEPTH                                 Lot Depth   \n",
       "15       FRONT                              Lot Frontage   \n",
       "16        SQFT              Property Area in Square Feet   \n",
       "17         FBA                             Basement Area   \n",
       "18       LAREA                                  Lot Area   \n",
       "19     LOTCODE                                  Lot Code   \n",
       "20  REPRISDATE                 Prior Sales Date (YYMMDD)   \n",
       "21  RP1RECDAT1               RECORDATION DATE ‘99/99/99’   \n",
       "22   RP1DOCNO1                           Document Number   \n",
       "23   RP1DOCNO2                           Document Number   \n",
       "24   RP1TRACDE                        Tax Rate Area Code   \n",
       "25   OWNRPRCNT                      Percent of Ownership   \n",
       "26   EXEMPTYPE           Closed Roll Exemption Type Code   \n",
       "27   RP1STACDE                   Closed Roll Status Code   \n",
       "28   RP1EXMVL2         Closed Roll Misc. Exemption Value   \n",
       "29   RP1EXMVL1     Closed Roll Homeowner Exemption Value   \n",
       "30    ROLLYEAR                          Closed Roll Year   \n",
       "31  RECURRSALD               Current Sales Date (YYMMDD)   \n",
       "32   RP1FXTVAL       Closed Roll Assessed Fixtures Value   \n",
       "33   RP1IMPVAL    Closed Roll Assessed Improvement Value   \n",
       "34   RP1LNDVAL           Closed Roll Assessed Land Value   \n",
       "35   RP1PPTVAL  Closed Roll Assessed Personal Prop Value   \n",
       "\n",
       "                                    FIELD DESCRIPTION  \n",
       "0         Situs/Location, as well as room/unit number  \n",
       "1        ASR neighborhood code based on MLS districts  \n",
       "2                     Block and Lot Number (Full APN)  \n",
       "3                                       Volume number  \n",
       "4                                       Property type  \n",
       "5   Year improvement was built (can be blend of or...  \n",
       "6   Number of bathrooms (BA with no shower or tub ...  \n",
       "7         Number of bedrooms (bedrooms have a closet)  \n",
       "8   Number of rooms, excluding bathrooms, halls, c...  \n",
       "9                                   Number of stories  \n",
       "10                                    Number of units  \n",
       "11         Date of change to property characteristics  \n",
       "12                                          Zone code  \n",
       "13                     Generally type of construction  \n",
       "14                        Depth of lot in linear feet  \n",
       "15  Linear footage of front facing side of lot (fr...  \n",
       "16                                   Same as lot area  \n",
       "17                         Square footage of basement  \n",
       "18                              Square footage of lot  \n",
       "19    lot shapes, could be Rectangle, Square or Other  \n",
       "20                                    prior sale date  \n",
       "21                          Recordation date (YYMMDD)  \n",
       "22                        Recorded document number #1  \n",
       "23                        Recorded document number #2  \n",
       "24     Tax rate dependent on location within the City  \n",
       "25                               Percent of ownership  \n",
       "26        Exemption Code (see below for descriptions)  \n",
       "27               i.e. Taxable, Non-Taxable, SBE, etc.  \n",
       "28                         Exemptions such as welfare  \n",
       "29                              Homeowner's exemption  \n",
       "30                                          Roll Year  \n",
       "31                                  current sale date  \n",
       "32                         Assessed value of fixtures  \n",
       "33                     Assessed value of improvements  \n",
       "34                             Assessed value of land  \n",
       "35                Assessed value of personal property  "
      ]
     },
     "execution_count": 570,
     "metadata": {},
     "output_type": "execute_result"
    }
   ],
   "source": [
    "assessor_columns"
   ]
  },
  {
   "cell_type": "code",
   "execution_count": 571,
   "metadata": {
    "collapsed": false
   },
   "outputs": [
    {
     "name": "stdout",
     "output_type": "stream",
     "text": [
      "<class 'pandas.core.frame.DataFrame'>\n",
      "RangeIndex: 197778 entries, 0 to 197777\n",
      "Data columns (total 36 columns):\n",
      "Property Location                           197778 non-null object\n",
      "Neighborhood Code                           197667 non-null object\n",
      "Block and Lot Number                        197778 non-null object\n",
      "Volume Number                               197778 non-null int64\n",
      "Property Class Code                         197702 non-null object\n",
      "Year Property Built                         197778 non-null int64\n",
      "Number of Bathrooms                         197778 non-null int64\n",
      "Number of Bedrooms                          197778 non-null int64\n",
      "Number of Rooms                             197778 non-null int64\n",
      "Number of Stories                           197778 non-null int64\n",
      "Number of Units                             197778 non-null int64\n",
      "Characteristics Change Date (YYMM)          197778 non-null int64\n",
      "Zoning Code                                 175850 non-null object\n",
      "Construction Type                           171526 non-null object\n",
      "Lot Depth                                   197778 non-null float64\n",
      "Lot Frontage                                197778 non-null float64\n",
      "Property Area in Square Feet                197778 non-null int64\n",
      "Basement Area                               197778 non-null int64\n",
      "Lot Area                                    197778 non-null float64\n",
      "Lot Code                                    71546 non-null object\n",
      "Prior Sales Date (YYMMDD)                   0 non-null float64\n",
      "RECORDATION DATE                            197778 non-null int64\n",
      "Document Number                             65912 non-null object\n",
      "Document Number                             197778 non-null int64\n",
      "Tax Rate Area Code                          197412 non-null float64\n",
      "Percent of Ownership                        197778 non-null float64\n",
      "Closed Roll Exemption Type Code             91941 non-null object\n",
      "Closed Roll Status Code                     3573 non-null object\n",
      "Closed Roll Misc. Exemption Value           197778 non-null int64\n",
      "Closed Roll Homeowner Exemption Value       197778 non-null int64\n",
      "Closed Roll Year                            197778 non-null int64\n",
      "Current Sales Date (YYMMDD)                 197778 non-null int64\n",
      "Closed Roll Assessed Fixtures Value         197778 non-null int64\n",
      "Closed Roll Assessed Improvement Value      197778 non-null int64\n",
      "Closed Roll Assessed Land Value             197778 non-null int64\n",
      "Closed Roll Assessed Personal Prop Value    197778 non-null int64\n",
      "dtypes: float64(6), int64(20), object(10)\n",
      "memory usage: 54.3+ MB\n"
     ]
    }
   ],
   "source": [
    "assessor.info()"
   ]
  },
  {
   "cell_type": "code",
   "execution_count": 572,
   "metadata": {
    "collapsed": false
   },
   "outputs": [],
   "source": [
    "# Drop features with over 50% missing\n",
    "missing_cols = (assessor.isnull().sum() / assessor.isnull().count()) < .5\n",
    "assessor = assessor.ix[:, missing_cols]"
   ]
  },
  {
   "cell_type": "code",
   "execution_count": 573,
   "metadata": {
    "collapsed": false
   },
   "outputs": [
    {
     "name": "stdout",
     "output_type": "stream",
     "text": [
      "197778\n",
      "178722\n"
     ]
    }
   ],
   "source": [
    "# Drop rows where Property Area in Square Feet =< 0\n",
    "print assessor.shape[0]\n",
    "assessor = assessor[assessor['Property Area in Square Feet'] > 0]\n",
    "print assessor.shape[0]"
   ]
  },
  {
   "cell_type": "code",
   "execution_count": 574,
   "metadata": {
    "collapsed": false
   },
   "outputs": [
    {
     "name": "stdout",
     "output_type": "stream",
     "text": [
      "178722\n",
      "175933\n"
     ]
    }
   ],
   "source": [
    "# Drop rows where Closed Roll Assessed Land Value =< 0\n",
    "print assessor.shape[0]\n",
    "assessor = assessor[assessor['Closed Roll Assessed Land Value'] > 0]\n",
    "print assessor.shape[0]"
   ]
  },
  {
   "cell_type": "code",
   "execution_count": 575,
   "metadata": {
    "collapsed": false
   },
   "outputs": [
    {
     "data": {
      "text/html": [
       "<div>\n",
       "<table border=\"1\" class=\"dataframe\">\n",
       "  <thead>\n",
       "    <tr style=\"text-align: right;\">\n",
       "      <th></th>\n",
       "      <th>Volume Number</th>\n",
       "      <th>Year Property Built</th>\n",
       "      <th>Number of Bathrooms</th>\n",
       "      <th>Number of Bedrooms</th>\n",
       "      <th>Number of Rooms</th>\n",
       "      <th>Number of Stories</th>\n",
       "      <th>Number of Units</th>\n",
       "      <th>Characteristics Change Date (YYMM)</th>\n",
       "      <th>Lot Depth</th>\n",
       "      <th>Lot Frontage</th>\n",
       "      <th>...</th>\n",
       "      <th>Tax Rate Area Code</th>\n",
       "      <th>Percent of Ownership</th>\n",
       "      <th>Closed Roll Misc. Exemption Value</th>\n",
       "      <th>Closed Roll Homeowner Exemption Value</th>\n",
       "      <th>Closed Roll Year</th>\n",
       "      <th>Current Sales Date (YYMMDD)</th>\n",
       "      <th>Closed Roll Assessed Fixtures Value</th>\n",
       "      <th>Closed Roll Assessed Improvement Value</th>\n",
       "      <th>Closed Roll Assessed Land Value</th>\n",
       "      <th>Closed Roll Assessed Personal Prop Value</th>\n",
       "    </tr>\n",
       "  </thead>\n",
       "  <tbody>\n",
       "    <tr>\n",
       "      <th>count</th>\n",
       "      <td>175933.000000</td>\n",
       "      <td>175933.000000</td>\n",
       "      <td>175933.000000</td>\n",
       "      <td>175933.000000</td>\n",
       "      <td>175933.000000</td>\n",
       "      <td>175933.000000</td>\n",
       "      <td>175933.000000</td>\n",
       "      <td>175933.000000</td>\n",
       "      <td>175933.000000</td>\n",
       "      <td>175933.000000</td>\n",
       "      <td>...</td>\n",
       "      <td>175809.000000</td>\n",
       "      <td>175933.000000</td>\n",
       "      <td>1.759330e+05</td>\n",
       "      <td>175933.000000</td>\n",
       "      <td>175933.0</td>\n",
       "      <td>175933.000000</td>\n",
       "      <td>1.759330e+05</td>\n",
       "      <td>1.759330e+05</td>\n",
       "      <td>1.759330e+05</td>\n",
       "      <td>1.759330e+05</td>\n",
       "    </tr>\n",
       "    <tr>\n",
       "      <th>mean</th>\n",
       "      <td>21.140150</td>\n",
       "      <td>1919.139849</td>\n",
       "      <td>2.507813</td>\n",
       "      <td>0.939693</td>\n",
       "      <td>8.485764</td>\n",
       "      <td>1.496865</td>\n",
       "      <td>1.984807</td>\n",
       "      <td>8578.596642</td>\n",
       "      <td>9.651300</td>\n",
       "      <td>0.044608</td>\n",
       "      <td>...</td>\n",
       "      <td>1000.549414</td>\n",
       "      <td>0.889244</td>\n",
       "      <td>1.705037e+04</td>\n",
       "      <td>3575.696430</td>\n",
       "      <td>7.0</td>\n",
       "      <td>253614.727419</td>\n",
       "      <td>2.544385e+03</td>\n",
       "      <td>3.420665e+05</td>\n",
       "      <td>3.017587e+05</td>\n",
       "      <td>1.866906e+03</td>\n",
       "    </tr>\n",
       "    <tr>\n",
       "      <th>std</th>\n",
       "      <td>12.762495</td>\n",
       "      <td>207.105192</td>\n",
       "      <td>8.866584</td>\n",
       "      <td>11.189238</td>\n",
       "      <td>21.814847</td>\n",
       "      <td>3.007055</td>\n",
       "      <td>13.244400</td>\n",
       "      <td>3236.981170</td>\n",
       "      <td>22.776216</td>\n",
       "      <td>1.435180</td>\n",
       "      <td>...</td>\n",
       "      <td>19.250370</td>\n",
       "      <td>0.223956</td>\n",
       "      <td>6.457150e+05</td>\n",
       "      <td>4238.785297</td>\n",
       "      <td>0.0</td>\n",
       "      <td>404758.899464</td>\n",
       "      <td>1.838077e+05</td>\n",
       "      <td>3.170144e+06</td>\n",
       "      <td>1.455615e+06</td>\n",
       "      <td>1.322537e+05</td>\n",
       "    </tr>\n",
       "    <tr>\n",
       "      <th>min</th>\n",
       "      <td>1.000000</td>\n",
       "      <td>0.000000</td>\n",
       "      <td>0.000000</td>\n",
       "      <td>0.000000</td>\n",
       "      <td>-7.000000</td>\n",
       "      <td>0.000000</td>\n",
       "      <td>0.000000</td>\n",
       "      <td>0.000000</td>\n",
       "      <td>0.000000</td>\n",
       "      <td>0.000000</td>\n",
       "      <td>...</td>\n",
       "      <td>1000.000000</td>\n",
       "      <td>0.000000</td>\n",
       "      <td>0.000000e+00</td>\n",
       "      <td>0.000000</td>\n",
       "      <td>7.0</td>\n",
       "      <td>0.000000</td>\n",
       "      <td>0.000000e+00</td>\n",
       "      <td>0.000000e+00</td>\n",
       "      <td>1.000000e+00</td>\n",
       "      <td>0.000000e+00</td>\n",
       "    </tr>\n",
       "    <tr>\n",
       "      <th>25%</th>\n",
       "      <td>11.000000</td>\n",
       "      <td>1913.000000</td>\n",
       "      <td>1.000000</td>\n",
       "      <td>0.000000</td>\n",
       "      <td>5.000000</td>\n",
       "      <td>1.000000</td>\n",
       "      <td>1.000000</td>\n",
       "      <td>9608.000000</td>\n",
       "      <td>0.000000</td>\n",
       "      <td>0.000000</td>\n",
       "      <td>...</td>\n",
       "      <td>NaN</td>\n",
       "      <td>1.000000</td>\n",
       "      <td>0.000000e+00</td>\n",
       "      <td>0.000000</td>\n",
       "      <td>7.0</td>\n",
       "      <td>0.000000</td>\n",
       "      <td>0.000000e+00</td>\n",
       "      <td>8.201100e+04</td>\n",
       "      <td>5.070300e+04</td>\n",
       "      <td>0.000000e+00</td>\n",
       "    </tr>\n",
       "    <tr>\n",
       "      <th>50%</th>\n",
       "      <td>19.000000</td>\n",
       "      <td>1931.000000</td>\n",
       "      <td>2.000000</td>\n",
       "      <td>0.000000</td>\n",
       "      <td>6.000000</td>\n",
       "      <td>1.000000</td>\n",
       "      <td>1.000000</td>\n",
       "      <td>9906.000000</td>\n",
       "      <td>0.000000</td>\n",
       "      <td>0.000000</td>\n",
       "      <td>...</td>\n",
       "      <td>NaN</td>\n",
       "      <td>1.000000</td>\n",
       "      <td>0.000000e+00</td>\n",
       "      <td>7000.000000</td>\n",
       "      <td>7.0</td>\n",
       "      <td>20214.000000</td>\n",
       "      <td>0.000000e+00</td>\n",
       "      <td>1.696660e+05</td>\n",
       "      <td>1.657190e+05</td>\n",
       "      <td>0.000000e+00</td>\n",
       "    </tr>\n",
       "    <tr>\n",
       "      <th>75%</th>\n",
       "      <td>33.000000</td>\n",
       "      <td>1957.000000</td>\n",
       "      <td>2.000000</td>\n",
       "      <td>1.000000</td>\n",
       "      <td>8.000000</td>\n",
       "      <td>2.000000</td>\n",
       "      <td>1.000000</td>\n",
       "      <td>9908.000000</td>\n",
       "      <td>0.000000</td>\n",
       "      <td>0.000000</td>\n",
       "      <td>...</td>\n",
       "      <td>NaN</td>\n",
       "      <td>1.000000</td>\n",
       "      <td>0.000000e+00</td>\n",
       "      <td>7000.000000</td>\n",
       "      <td>7.0</td>\n",
       "      <td>870626.000000</td>\n",
       "      <td>0.000000e+00</td>\n",
       "      <td>3.043170e+05</td>\n",
       "      <td>3.433320e+05</td>\n",
       "      <td>0.000000e+00</td>\n",
       "    </tr>\n",
       "    <tr>\n",
       "      <th>max</th>\n",
       "      <td>44.000000</td>\n",
       "      <td>9185.000000</td>\n",
       "      <td>1002.000000</td>\n",
       "      <td>3800.000000</td>\n",
       "      <td>3606.000000</td>\n",
       "      <td>963.000000</td>\n",
       "      <td>3146.000000</td>\n",
       "      <td>9912.000000</td>\n",
       "      <td>99.920000</td>\n",
       "      <td>99.390000</td>\n",
       "      <td>...</td>\n",
       "      <td>9000.000000</td>\n",
       "      <td>1.000000</td>\n",
       "      <td>1.204034e+08</td>\n",
       "      <td>777000.000000</td>\n",
       "      <td>7.0</td>\n",
       "      <td>991231.000000</td>\n",
       "      <td>4.665329e+07</td>\n",
       "      <td>6.120000e+08</td>\n",
       "      <td>2.560200e+08</td>\n",
       "      <td>2.736068e+07</td>\n",
       "    </tr>\n",
       "  </tbody>\n",
       "</table>\n",
       "<p>8 rows × 25 columns</p>\n",
       "</div>"
      ],
      "text/plain": [
       "       Volume Number  Year Property Built  Number of Bathrooms  \\\n",
       "count  175933.000000        175933.000000        175933.000000   \n",
       "mean       21.140150          1919.139849             2.507813   \n",
       "std        12.762495           207.105192             8.866584   \n",
       "min         1.000000             0.000000             0.000000   \n",
       "25%        11.000000          1913.000000             1.000000   \n",
       "50%        19.000000          1931.000000             2.000000   \n",
       "75%        33.000000          1957.000000             2.000000   \n",
       "max        44.000000          9185.000000          1002.000000   \n",
       "\n",
       "       Number of Bedrooms  Number of Rooms  Number of Stories  \\\n",
       "count       175933.000000    175933.000000      175933.000000   \n",
       "mean             0.939693         8.485764           1.496865   \n",
       "std             11.189238        21.814847           3.007055   \n",
       "min              0.000000        -7.000000           0.000000   \n",
       "25%              0.000000         5.000000           1.000000   \n",
       "50%              0.000000         6.000000           1.000000   \n",
       "75%              1.000000         8.000000           2.000000   \n",
       "max           3800.000000      3606.000000         963.000000   \n",
       "\n",
       "       Number of Units  Characteristics Change Date (YYMM)      Lot Depth  \\\n",
       "count    175933.000000                       175933.000000  175933.000000   \n",
       "mean          1.984807                         8578.596642       9.651300   \n",
       "std          13.244400                         3236.981170      22.776216   \n",
       "min           0.000000                            0.000000       0.000000   \n",
       "25%           1.000000                         9608.000000       0.000000   \n",
       "50%           1.000000                         9906.000000       0.000000   \n",
       "75%           1.000000                         9908.000000       0.000000   \n",
       "max        3146.000000                         9912.000000      99.920000   \n",
       "\n",
       "        Lot Frontage                    ...                     \\\n",
       "count  175933.000000                    ...                      \n",
       "mean        0.044608                    ...                      \n",
       "std         1.435180                    ...                      \n",
       "min         0.000000                    ...                      \n",
       "25%         0.000000                    ...                      \n",
       "50%         0.000000                    ...                      \n",
       "75%         0.000000                    ...                      \n",
       "max        99.390000                    ...                      \n",
       "\n",
       "       Tax Rate Area Code  Percent of Ownership  \\\n",
       "count       175809.000000         175933.000000   \n",
       "mean          1000.549414              0.889244   \n",
       "std             19.250370              0.223956   \n",
       "min           1000.000000              0.000000   \n",
       "25%                   NaN              1.000000   \n",
       "50%                   NaN              1.000000   \n",
       "75%                   NaN              1.000000   \n",
       "max           9000.000000              1.000000   \n",
       "\n",
       "       Closed Roll Misc. Exemption Value  \\\n",
       "count                       1.759330e+05   \n",
       "mean                        1.705037e+04   \n",
       "std                         6.457150e+05   \n",
       "min                         0.000000e+00   \n",
       "25%                         0.000000e+00   \n",
       "50%                         0.000000e+00   \n",
       "75%                         0.000000e+00   \n",
       "max                         1.204034e+08   \n",
       "\n",
       "       Closed Roll Homeowner Exemption Value  Closed Roll Year  \\\n",
       "count                          175933.000000          175933.0   \n",
       "mean                             3575.696430               7.0   \n",
       "std                              4238.785297               0.0   \n",
       "min                                 0.000000               7.0   \n",
       "25%                                 0.000000               7.0   \n",
       "50%                              7000.000000               7.0   \n",
       "75%                              7000.000000               7.0   \n",
       "max                            777000.000000               7.0   \n",
       "\n",
       "       Current Sales Date (YYMMDD)  Closed Roll Assessed Fixtures Value  \\\n",
       "count                175933.000000                         1.759330e+05   \n",
       "mean                 253614.727419                         2.544385e+03   \n",
       "std                  404758.899464                         1.838077e+05   \n",
       "min                       0.000000                         0.000000e+00   \n",
       "25%                       0.000000                         0.000000e+00   \n",
       "50%                   20214.000000                         0.000000e+00   \n",
       "75%                  870626.000000                         0.000000e+00   \n",
       "max                  991231.000000                         4.665329e+07   \n",
       "\n",
       "       Closed Roll Assessed Improvement Value  \\\n",
       "count                            1.759330e+05   \n",
       "mean                             3.420665e+05   \n",
       "std                              3.170144e+06   \n",
       "min                              0.000000e+00   \n",
       "25%                              8.201100e+04   \n",
       "50%                              1.696660e+05   \n",
       "75%                              3.043170e+05   \n",
       "max                              6.120000e+08   \n",
       "\n",
       "       Closed Roll Assessed Land Value  \\\n",
       "count                     1.759330e+05   \n",
       "mean                      3.017587e+05   \n",
       "std                       1.455615e+06   \n",
       "min                       1.000000e+00   \n",
       "25%                       5.070300e+04   \n",
       "50%                       1.657190e+05   \n",
       "75%                       3.433320e+05   \n",
       "max                       2.560200e+08   \n",
       "\n",
       "       Closed Roll Assessed Personal Prop Value  \n",
       "count                              1.759330e+05  \n",
       "mean                               1.866906e+03  \n",
       "std                                1.322537e+05  \n",
       "min                                0.000000e+00  \n",
       "25%                                0.000000e+00  \n",
       "50%                                0.000000e+00  \n",
       "75%                                0.000000e+00  \n",
       "max                                2.736068e+07  \n",
       "\n",
       "[8 rows x 25 columns]"
      ]
     },
     "execution_count": 575,
     "metadata": {},
     "output_type": "execute_result"
    }
   ],
   "source": [
    "assessor.describe()"
   ]
  },
  {
   "cell_type": "code",
   "execution_count": 576,
   "metadata": {
    "collapsed": false
   },
   "outputs": [
    {
     "data": {
      "image/png": "[encoded data removed]",
      "text/plain": [
       "<matplotlib.figure.Figure at 0x19701a850>"
      ]
     },
     "metadata": {},
     "output_type": "display_data"
    }
   ],
   "source": [
    "# Log Closed Roll Assessed Land Value Hist\n",
    "plt.figure(figsize=(10,5))\n",
    "mpl.rc('xtick', labelsize=10) \n",
    "mpl.rc('ytick', labelsize=10) \n",
    "mpl.rcParams.update({'font.size': 10})\n",
    "sns.distplot(np.log1p(assessor['Closed Roll Assessed Land Value']), kde=False)\n",
    "plt.show()"
   ]
  },
  {
   "cell_type": "code",
   "execution_count": 577,
   "metadata": {
    "collapsed": false
   },
   "outputs": [
    {
     "data": {
      "image/png": "[encoded data removed]",
      "text/plain": [
       "<matplotlib.figure.Figure at 0x1380759d0>"
      ]
     },
     "metadata": {},
     "output_type": "display_data"
    }
   ],
   "source": [
    "# Year Built Hist\n",
    "year_nonzero = assessor['Year Property Built'][(assessor['Year Property Built'] > 0) & (assessor['Year Property Built'] <= 2016)]\n",
    "plt.figure(figsize=(8,5))\n",
    "mpl.rc('xtick', labelsize=10) \n",
    "mpl.rc('ytick', labelsize=10) \n",
    "mpl.rcParams.update({'font.size': 10})\n",
    "plt.xlim(1875, 2016)\n",
    "sns.distplot(year_nonzero, kde=False, bins=200)\n",
    "plt.show()"
   ]
  },
  {
   "cell_type": "code",
   "execution_count": 578,
   "metadata": {
    "collapsed": false
   },
   "outputs": [
    {
     "data": {
      "image/png": "[encoded data removed]",
      "text/plain": [
       "<matplotlib.figure.Figure at 0x1970128d0>"
      ]
     },
     "metadata": {},
     "output_type": "display_data"
    }
   ],
   "source": [
    "# Log Property Area in Square Feet\n",
    "log_real_property = np.log1p(assessor['Property Area in Square Feet'])\n",
    "\n",
    "plt.figure(figsize=(10,5))\n",
    "mpl.rc('xtick', labelsize=10) \n",
    "mpl.rc('ytick', labelsize=10) \n",
    "mpl.rcParams.update({'font.size': 10})\n",
    "sns.distplot(log_real_property, kde=False)\n",
    "plt.show()"
   ]
  },
  {
   "cell_type": "code",
   "execution_count": 579,
   "metadata": {
    "collapsed": false
   },
   "outputs": [
    {
     "data": {
      "text/plain": [
       "<matplotlib.axes._subplots.AxesSubplot at 0x196931a90>"
      ]
     },
     "execution_count": 579,
     "metadata": {},
     "output_type": "execute_result"
    },
    {
     "data": {
      "image/png": "[encoded data removed]",
      "text/plain": [
       "<matplotlib.figure.Figure at 0x12bb2a310>"
      ]
     },
     "metadata": {},
     "output_type": "display_data"
    }
   ],
   "source": [
    "# Land Value vs Property Area Scatter\n",
    "land_value_log = np.log1p(assessor['Closed Roll Assessed Land Value'])\n",
    "area_sqft_log = np.log1p(assessor['Property Area in Square Feet'])\n",
    "plt.figure(figsize=(8,8))\n",
    "sns.regplot(land_value_log, area_sqft_log)"
   ]
  },
  {
   "cell_type": "code",
   "execution_count": 580,
   "metadata": {
    "collapsed": false
   },
   "outputs": [
    {
     "data": {
      "text/plain": [
       "<matplotlib.axes._subplots.AxesSubplot at 0x1744f15d0>"
      ]
     },
     "execution_count": 580,
     "metadata": {},
     "output_type": "execute_result"
    },
    {
     "data": {
      "image/png": "[encoded data removed]",
      "text/plain": [
       "<matplotlib.figure.Figure at 0x16b5513d0>"
      ]
     },
     "metadata": {},
     "output_type": "display_data"
    }
   ],
   "source": [
    "#Correlation Heatmap\n",
    "assessor_num = assessor.select_dtypes(exclude=['object'])\n",
    "corr_matrix = assessor_num.corr()\n",
    "mask = np.zeros_like(corr_matrix, dtype=np.bool)\n",
    "mask[np.triu_indices_from(mask)] = True\n",
    "\n",
    "plt.figure(figsize=(8,8))\n",
    "sns.heatmap(corr_matrix, mask=mask)"
   ]
  },
  {
   "cell_type": "markdown",
   "metadata": {},
   "source": [
    "<img src=\"http://imgur.com/l5NasQj.png\" style=\"float: left; margin: 25px 15px 0px 0px; height: 25px\">\n",
    "\n",
    "### 2. Construct and evaluate a linear regression model on the data\n",
    "\n",
    "---\n",
    "\n",
    "1. State the variables that are predictors in your linear regression and the target variable.\n",
    "- Investigate and remove any outliers or other problems in your data. _This is a subjective process._\n",
    "- Construct a linear regression model.\n",
    "- Evaluate the model. How does the $R^2$ of the overall model compare to cross-validated $R^2$. What do the differences in $R^2$ mean?\n",
    "  - Use test / train split\n",
    "  - Use K-Folds\n",
    "  - Compare and explain your results with both\n",
    "- **Visualize the evaluation metrics of your analysis in clear charts.**\n",
    "- Summarize your results in the context of your hypothesis. Frame this as if you are presenting to non-technical readers.\n"
   ]
  },
  {
   "cell_type": "code",
   "execution_count": 581,
   "metadata": {
    "collapsed": false
   },
   "outputs": [
    {
     "name": "stderr",
     "output_type": "stream",
     "text": [
      "/Users/nehemiahloury/anaconda/envs/dsi/lib/python2.7/site-packages/ipykernel/__main__.py:5: SettingWithCopyWarning: \n",
      "A value is trying to be set on a copy of a slice from a DataFrame\n",
      "\n",
      "See the caveats in the documentation: http://pandas.pydata.org/pandas-docs/stable/indexing.html#indexing-view-versus-copy\n"
     ]
    }
   ],
   "source": [
    "# Drop Unnecessary Columns\n",
    "drop_columns = ['Volume Number','Characteristics Change Date (YYMM)', 'RECORDATION DATE', \n",
    "                'Document Number', 'Tax Rate Area Code', 'Closed Roll Year','Current Sales Date (YYMMDD)']\n",
    "\n",
    "assessor_num.drop(drop_columns, axis=1, inplace=True)"
   ]
  },
  {
   "cell_type": "code",
   "execution_count": 582,
   "metadata": {
    "collapsed": false
   },
   "outputs": [
    {
     "data": {
      "text/plain": [
       "163600"
      ]
     },
     "execution_count": 582,
     "metadata": {},
     "output_type": "execute_result"
    }
   ],
   "source": [
    "# Drop Outliers\n",
    "assessor_num = assessor_num[(assessor_num['Year Property Built'] > 1776) & (assessor_num['Year Property Built'] < 2017)]\n",
    "assessor_num = assessor_num[assessor_num['Number of Rooms'] > 0]\n",
    "assessor_num = assessor_num[assessor_num['Basement Area'] >= 0]\n",
    "assessor_num = assessor_num[assessor_num['Number of Bedrooms'] < assessor_num['Number of Rooms']]\n",
    "assessor_num.describe()\n",
    "assessor_num.shape[0]"
   ]
  },
  {
   "cell_type": "code",
   "execution_count": 583,
   "metadata": {
    "collapsed": false
   },
   "outputs": [
    {
     "name": "stdout",
     "output_type": "stream",
     "text": [
      "R^2 =  0.465834642444\n"
     ]
    }
   ],
   "source": [
    "# Build the Regression\n",
    "target = assessor_num['Closed Roll Assessed Land Value'].reset_index(drop=True)\n",
    "X = assessor_num.ix[:, assessor_num.columns != 'Closed Roll Assessed Land Value'].reset_index(drop=True)\n",
    "base_lr = linear_model.LinearRegression(normalize=True)\n",
    "\n",
    "# Train Test Split\n",
    "X_train, X_test, y_train, y_test = train_test_split(X, target) \n",
    "base_lr.fit(X_train, y_train)\n",
    "predictions = base_lr.predict(X_test)\n",
    "R2 = base_lr.score(X_test, y_test)\n",
    "print \"R^2 = \", R2"
   ]
  },
  {
   "cell_type": "code",
   "execution_count": 584,
   "metadata": {
    "collapsed": false
   },
   "outputs": [
    {
     "data": {
      "image/png": "[encoded data removed]",
      "text/plain": [
       "<matplotlib.figure.Figure at 0x15cd7d090>"
      ]
     },
     "metadata": {},
     "output_type": "display_data"
    },
    {
     "data": {
      "text/plain": [
       "<matplotlib.figure.Figure at 0x16f923090>"
      ]
     },
     "metadata": {},
     "output_type": "display_data"
    }
   ],
   "source": [
    "# Plot \n",
    "plt.scatter(np.log1p(predictions), np.log1p(y_test), s=20, c='b', marker='+')\n",
    "plt.xlabel(\"Predicted Land Values\")\n",
    "plt.ylabel(\"Actual Land Values\")\n",
    "plt.figure(figsize=(8,8))\n",
    "plt.show()"
   ]
  },
  {
   "cell_type": "code",
   "execution_count": 702,
   "metadata": {
    "collapsed": false
   },
   "outputs": [
    {
     "name": "stdout",
     "output_type": "stream",
     "text": [
      "163600\n"
     ]
    }
   ],
   "source": [
    "# KFolds\n",
    "print X.shape[0]\n",
    "kfolds = KFold(X.shape[0], n_folds=5)\n",
    "R2_scores = []\n",
    "for traini, testi in kfolds:\n",
    "    kfolds_lr = linear_model.LinearRegression(normalize=True)\n",
    "    X_train, X_test = X.ix[traini,:], X.ix[testi,:]\n",
    "    y_train, y_test = target[traini], target[testi]\n",
    "    kfolds_lr.fit(X_train, y_train)\n",
    "    score = base_lr.score(X_test, y_test)\n",
    "    R2_scores.append(score)"
   ]
  },
  {
   "cell_type": "code",
   "execution_count": 703,
   "metadata": {
    "collapsed": false
   },
   "outputs": [
    {
     "name": "stdout",
     "output_type": "stream",
     "text": [
      "[0.594198294661616, 0.35828019853344628, 0.35465611545420883, 0.31202677522812328, 0.45206701745773314]\n",
      "0.414245680267\n",
      "0.465834642444\n"
     ]
    }
   ],
   "source": [
    "print R2_scores\n",
    "print np.mean(R2_scores)\n",
    "print R2"
   ]
  },
  {
   "cell_type": "markdown",
   "metadata": {},
   "source": [
    "We see that the R^2 for our train test split is about the same as the average from our KFold Cross Validation. That suggests that our specific split was fairly representative of the data as a whole.\n",
    "\n",
    "It appears that at least with our current model/data we are only able to account for about 46% of the variability in the land value."
   ]
  },
  {
   "cell_type": "markdown",
   "metadata": {},
   "source": [
    "<img src=\"http://imgur.com/xDpSobf.png\" style=\"float: left; margin: 25px 15px 0px 0px; height: 25px\">\n",
    "\n",
    "### 2.2 Explain $R^2$ vs. mean squared error (MSE)\n",
    "\n",
    "---\n",
    "\n",
    "1. If you have negative $R^2$ values in cross-validation, what does this mean? \n",
    "2. Why can $R^2$ only be negative when the model is tested on new data?"
   ]
  },
  {
   "cell_type": "markdown",
   "metadata": {
    "collapsed": false
   },
   "source": [
    "1. That means that the regression model is even less accurate the baseline of just estimating the value with the mean. More specifically, the residual sum of squares is larger than the total sum of squares. Definitely not something that you want to happen in most cases.\n",
    "2. R^2 can only be negative when the model is tested on new data because the way you train the model is to try and minimize the sum of squared errors on the training data, which guarantees that the residual sum of squares will be less than the total."
   ]
  },
  {
   "cell_type": "markdown",
   "metadata": {},
   "source": [
    "<img src=\"http://imgur.com/l5NasQj.png\" style=\"float: left; margin: 25px 15px 0px 0px; height: 25px\">\n",
    "\n",
    "### 3. Combine multiple sources of data and evaluate a model with regularized regression\n",
    "\n",
    "---\n",
    "\n",
    "**I recommend having many predictors to see benefits from regularization methods, but it's up to you.**\n",
    "\n",
    "1. Use _NEW_ sources of data for this section. It should not be related to your analysis/hypothesis from section 1.\n",
    "- Like in part 1, you should state a hypothesis and perform data cleaning and EDA _only_ on the relevant portions of your data. Don't waste time!\n",
    "- Construct and evaluate different models with cross-validated $R^2$. Compare LinearRegression, Lasso, Ridge, and ElasticNet. Find the optimal hyperparameters (alpha, l1_ratio) using gridsearch.\n",
    "- Report on which model is best, and why that might be the case (hint: does your data have multicollinearity? Irrelevant variables? Both?)\n",
    "- Plot visuals that compare the performance of the four models.\n"
   ]
  },
  {
   "cell_type": "markdown",
   "metadata": {},
   "source": [
    "Hypothesis: Park Scores have improved overall from 2007 to 2014"
   ]
  },
  {
   "cell_type": "code",
   "execution_count": 479,
   "metadata": {
    "collapsed": false
   },
   "outputs": [],
   "source": [
    "# Read in data\n",
    "park_info = pd.read_csv('./san_francisco/parks/park_info.csv')\n",
    "park_scores = pd.read_csv('./san_francisco/parks/park_scores.csv')"
   ]
  },
  {
   "cell_type": "code",
   "execution_count": 480,
   "metadata": {
    "collapsed": false
   },
   "outputs": [],
   "source": [
    "# Drop Unnecessary Columns\n",
    "park_info.drop(['ParkName', 'ParkServiceArea', 'PSAManager', 'email', \n",
    "                'Number', 'Zipcode', 'Location 1', 'Lat'], axis=1, inplace=True)"
   ]
  },
  {
   "cell_type": "code",
   "execution_count": 481,
   "metadata": {
    "collapsed": false
   },
   "outputs": [],
   "source": [
    "# Fill in SupDist Column\n",
    "park_info.ix[:,'SupDist'].fillna(value=park_info['SupDist'].median(), inplace=True)"
   ]
  },
  {
   "cell_type": "code",
   "execution_count": 482,
   "metadata": {
    "collapsed": false
   },
   "outputs": [],
   "source": [
    "# Drop NAs and prepare to merge datasets\n",
    "park_info.dropna(inplace=True)\n",
    "park_info['ParkID'] = park_info['ParkID'].apply(lambda x: int(x))\n",
    "park_scores['ParkID'] = park_scores['ParkID'].apply(lambda x: int(x))"
   ]
  },
  {
   "cell_type": "code",
   "execution_count": 483,
   "metadata": {
    "collapsed": false
   },
   "outputs": [
    {
     "data": {
      "text/html": [
       "<div>\n",
       "<table border=\"1\" class=\"dataframe\">\n",
       "  <thead>\n",
       "    <tr style=\"text-align: right;\">\n",
       "      <th></th>\n",
       "      <th>ParkID</th>\n",
       "      <th>PSA</th>\n",
       "      <th>Park</th>\n",
       "      <th>FQ</th>\n",
       "      <th>Score</th>\n",
       "      <th>ParkType</th>\n",
       "      <th>Acreage</th>\n",
       "      <th>SupDist</th>\n",
       "      <th>ParkID_info</th>\n",
       "    </tr>\n",
       "  </thead>\n",
       "  <tbody>\n",
       "    <tr>\n",
       "      <th>0</th>\n",
       "      <td>86</td>\n",
       "      <td>PSA4</td>\n",
       "      <td>Carl Larsen Park</td>\n",
       "      <td>FY05Q3</td>\n",
       "      <td>0.795</td>\n",
       "      <td>Mini Park</td>\n",
       "      <td>0.08</td>\n",
       "      <td>5.0</td>\n",
       "      <td>120</td>\n",
       "    </tr>\n",
       "    <tr>\n",
       "      <th>1</th>\n",
       "      <td>86</td>\n",
       "      <td>PSA4</td>\n",
       "      <td>Carl Larsen Park</td>\n",
       "      <td>FY06Q1</td>\n",
       "      <td>0.813</td>\n",
       "      <td>Mini Park</td>\n",
       "      <td>0.08</td>\n",
       "      <td>5.0</td>\n",
       "      <td>120</td>\n",
       "    </tr>\n",
       "    <tr>\n",
       "      <th>2</th>\n",
       "      <td>86</td>\n",
       "      <td>PSA4</td>\n",
       "      <td>Carl Larsen Park</td>\n",
       "      <td>FY06Q2</td>\n",
       "      <td>0.256</td>\n",
       "      <td>Mini Park</td>\n",
       "      <td>0.08</td>\n",
       "      <td>5.0</td>\n",
       "      <td>120</td>\n",
       "    </tr>\n",
       "    <tr>\n",
       "      <th>3</th>\n",
       "      <td>86</td>\n",
       "      <td>PSA4</td>\n",
       "      <td>Carl Larsen Park</td>\n",
       "      <td>FY06Q4</td>\n",
       "      <td>0.648</td>\n",
       "      <td>Mini Park</td>\n",
       "      <td>0.08</td>\n",
       "      <td>5.0</td>\n",
       "      <td>120</td>\n",
       "    </tr>\n",
       "    <tr>\n",
       "      <th>4</th>\n",
       "      <td>86</td>\n",
       "      <td>PSA4</td>\n",
       "      <td>Carl Larsen Park</td>\n",
       "      <td>FY07Q2</td>\n",
       "      <td>0.716</td>\n",
       "      <td>Mini Park</td>\n",
       "      <td>0.08</td>\n",
       "      <td>5.0</td>\n",
       "      <td>120</td>\n",
       "    </tr>\n",
       "  </tbody>\n",
       "</table>\n",
       "</div>"
      ],
      "text/plain": [
       "   ParkID   PSA              Park      FQ  Score   ParkType  Acreage  SupDist  \\\n",
       "0      86  PSA4  Carl Larsen Park  FY05Q3  0.795  Mini Park     0.08      5.0   \n",
       "1      86  PSA4  Carl Larsen Park  FY06Q1  0.813  Mini Park     0.08      5.0   \n",
       "2      86  PSA4  Carl Larsen Park  FY06Q2  0.256  Mini Park     0.08      5.0   \n",
       "3      86  PSA4  Carl Larsen Park  FY06Q4  0.648  Mini Park     0.08      5.0   \n",
       "4      86  PSA4  Carl Larsen Park  FY07Q2  0.716  Mini Park     0.08      5.0   \n",
       "\n",
       "   ParkID_info  \n",
       "0          120  \n",
       "1          120  \n",
       "2          120  \n",
       "3          120  \n",
       "4          120  "
      ]
     },
     "execution_count": 483,
     "metadata": {},
     "output_type": "execute_result"
    }
   ],
   "source": [
    "# Join Datasets\n",
    "park = park_scores.join(park_info, on='ParkID', how='inner', rsuffix='_info').reset_index(drop=True)\n",
    "park.head()"
   ]
  },
  {
   "cell_type": "code",
   "execution_count": 484,
   "metadata": {
    "collapsed": false
   },
   "outputs": [],
   "source": [
    "# Clean Joined Dataset\n",
    "park['Quarter'] = park['FQ'].apply(lambda x: x[-1])\n",
    "park['Year'] = park['FQ'].apply(lambda x: x[:4])\n",
    "park['Year'] = park['Year'].apply(lambda x: x.replace('FY', '20'))\n",
    "park['Year'] = pd.to_datetime(park['Year']).dt.year\n",
    "park.drop(labels=['ParkID_info', 'FQ', 'Park'], axis=1, inplace=True)\n",
    "park.dropna(inplace=True)"
   ]
  },
  {
   "cell_type": "code",
   "execution_count": 485,
   "metadata": {
    "collapsed": false
   },
   "outputs": [
    {
     "data": {
      "text/plain": [
       "<matplotlib.axes._subplots.AxesSubplot at 0x14ad83bd0>"
      ]
     },
     "execution_count": 485,
     "metadata": {},
     "output_type": "execute_result"
    },
    {
     "data": {
      "image/png": "[encoded data removed]",
      "text/plain": [
       "<matplotlib.figure.Figure at 0x146dd6d90>"
      ]
     },
     "metadata": {},
     "output_type": "display_data"
    }
   ],
   "source": [
    "# Plot Distribution of Scores\n",
    "plt.figure(figsize=(8,8))\n",
    "sns.distplot(park['Score'], kde=False)"
   ]
  },
  {
   "cell_type": "code",
   "execution_count": 486,
   "metadata": {
    "collapsed": false
   },
   "outputs": [
    {
     "data": {
      "text/plain": [
       "<matplotlib.axes._subplots.AxesSubplot at 0x11793e490>"
      ]
     },
     "execution_count": 486,
     "metadata": {},
     "output_type": "execute_result"
    },
    {
     "data": {
      "image/png": "[encoded data removed]",
      "text/plain": [
       "<matplotlib.figure.Figure at 0x13fb066d0>"
      ]
     },
     "metadata": {},
     "output_type": "display_data"
    }
   ],
   "source": [
    "# Plot Mean Scores by Year and Quarter\n",
    "park.groupby(by=['Year', 'Quarter'])['Score'].mean().unstack().plot(kind='bar', figsize = (10,7))"
   ]
  },
  {
   "cell_type": "code",
   "execution_count": 487,
   "metadata": {
    "collapsed": false
   },
   "outputs": [
    {
     "data": {
      "text/plain": [
       "<matplotlib.axes._subplots.AxesSubplot at 0x19def6810>"
      ]
     },
     "execution_count": 487,
     "metadata": {},
     "output_type": "execute_result"
    },
    {
     "data": {
      "image/png": "[encoded data removed]",
      "text/plain": [
       "<matplotlib.figure.Figure at 0x146dbdd50>"
      ]
     },
     "metadata": {},
     "output_type": "display_data"
    }
   ],
   "source": [
    "# Plot Mean Scores by PSA\n",
    "park.groupby(by=['PSA'])['Score'].mean().plot(kind='bar', figsize = (10,5))"
   ]
  },
  {
   "cell_type": "code",
   "execution_count": 488,
   "metadata": {
    "collapsed": false
   },
   "outputs": [
    {
     "data": {
      "text/plain": [
       "<matplotlib.axes._subplots.AxesSubplot at 0x1aebca750>"
      ]
     },
     "execution_count": 488,
     "metadata": {},
     "output_type": "execute_result"
    },
    {
     "data": {
      "image/png": "[encoded data removed]",
      "text/plain": [
       "<matplotlib.figure.Figure at 0x1a96f8450>"
      ]
     },
     "metadata": {},
     "output_type": "display_data"
    }
   ],
   "source": [
    "# Plot Mean Scores by Park Type\n",
    "park.groupby(by=['ParkType'])['Score'].mean().plot(kind='bar', figsize = (10,5))"
   ]
  },
  {
   "cell_type": "code",
   "execution_count": 489,
   "metadata": {
    "collapsed": false
   },
   "outputs": [
    {
     "data": {
      "text/plain": [
       "<matplotlib.axes._subplots.AxesSubplot at 0x1a8d3b850>"
      ]
     },
     "execution_count": 489,
     "metadata": {},
     "output_type": "execute_result"
    },
    {
     "data": {
      "image/png": "[encoded data removed]",
      "text/plain": [
       "<matplotlib.figure.Figure at 0x1aebf9510>"
      ]
     },
     "metadata": {},
     "output_type": "display_data"
    }
   ],
   "source": [
    "# Plot Mean Scores by SupDist\n",
    "park.groupby(by=['SupDist'])['Score'].mean().plot(kind='bar', figsize = (10,5))"
   ]
  },
  {
   "cell_type": "code",
   "execution_count": 490,
   "metadata": {
    "collapsed": false
   },
   "outputs": [],
   "source": [
    "# Make Categorical Variables into Dummies\n",
    "def dummy_df(df):\n",
    "    train_dummy = pd.DataFrame()\n",
    "    \n",
    "    for column in  df.columns:\n",
    "        column_dummy = pd.get_dummies(df[column])\n",
    "        train_dummy = pd.concat([train_dummy, column_dummy], axis=1)\n",
    "    return train_dummy\n",
    "\n",
    "park_cat = park.ix[:,['PSA', 'ParkType']]\n",
    "park_dummy = dummy_df(park_cat)"
   ]
  },
  {
   "cell_type": "code",
   "execution_count": 491,
   "metadata": {
    "collapsed": false
   },
   "outputs": [],
   "source": [
    "# Concatenate dummy dataframe with original and drop old columns\n",
    "park = pd.concat([park, park_dummy], axis=1).drop(['PSA', 'ParkType'], axis=1)"
   ]
  },
  {
   "cell_type": "code",
   "execution_count": 492,
   "metadata": {
    "collapsed": false
   },
   "outputs": [],
   "source": [
    "# Split into target and predictors\n",
    "park_y = park['Score']\n",
    "park_predictor = park.ix[:, ~park.columns.isin(['Score', 'ParkID'])]"
   ]
  },
  {
   "cell_type": "code",
   "execution_count": 493,
   "metadata": {
    "collapsed": false
   },
   "outputs": [],
   "source": [
    "# Normalize Dataset\n",
    "from sklearn.preprocessing import StandardScaler\n",
    "park_ss = StandardScaler()\n",
    "park_norm = park_ss.fit_transform(park_predictor)"
   ]
  },
  {
   "cell_type": "code",
   "execution_count": 704,
   "metadata": {
    "collapsed": false
   },
   "outputs": [
    {
     "name": "stdout",
     "output_type": "stream",
     "text": [
      "Baseline 0.105715959036\n",
      "Training:  0.113327312281\n",
      "Testing:  0.102164261824\n",
      "R^2 0.0660644761836\n"
     ]
    }
   ],
   "source": [
    "# Linear Regression\n",
    "X_train, X_test, y_train, y_test = train_test_split(park_norm, park_y)\n",
    "park_lr = linear_model.LinearRegression()\n",
    "park_lr.fit(X_train, y_train)\n",
    "y_pred = park_lr.predict(X_test)\n",
    "score = park_lr.score(X_test, y_test)\n",
    "\n",
    "print 'Baseline', np.sqrt(mean_squared_error(y_test, [np.mean(y_test) for x in y_test]))\n",
    "print 'Training: ', np.sqrt(mean_squared_error(y_train, park_lr.predict(X_train)))\n",
    "print 'Testing: ', np.sqrt(mean_squared_error(y_test, park_lr.predict(X_test)))\n",
    "print 'R^2', score"
   ]
  },
  {
   "cell_type": "code",
   "execution_count": 705,
   "metadata": {
    "collapsed": false
   },
   "outputs": [
    {
     "data": {
      "text/plain": [
       "<matplotlib.axes._subplots.AxesSubplot at 0x1483b89d0>"
      ]
     },
     "execution_count": 705,
     "metadata": {},
     "output_type": "execute_result"
    },
    {
     "data": {
      "image/png": "[encoded data removed]",
      "text/plain": [
       "<matplotlib.figure.Figure at 0x171565c90>"
      ]
     },
     "metadata": {},
     "output_type": "display_data"
    }
   ],
   "source": [
    "sns.regplot(y_pred, y_test)"
   ]
  },
  {
   "cell_type": "code",
   "execution_count": 706,
   "metadata": {
    "collapsed": false
   },
   "outputs": [
    {
     "name": "stdout",
     "output_type": "stream",
     "text": [
      "Lambda Value: 300\n",
      "Baseline 0.105715959036\n",
      "Training:  0.113358354162\n",
      "Testing:  0.101954188076\n",
      "R^2:  0.0699013095517\n"
     ]
    }
   ],
   "source": [
    "# Ridge Regression\n",
    "park_ridge = linear_model.RidgeCV(alphas=[0.001,0.01,0.1,1,10,100,200,300], cv=3)\n",
    "park_ridge.fit(X_train, y_train)\n",
    "\n",
    "y_train_ridge_pred = park_ridge.predict(X_train)\n",
    "y_test_ridge_pred = park_ridge.predict(X_test)\n",
    "ridge_score = park_ridge.score(X_test, y_test)\n",
    "\n",
    "print \"Lambda Value:\", park_ridge.alpha_\n",
    "print 'Baseline', np.sqrt(mean_squared_error(y_test, [np.mean(y_test) for x in y_test]))\n",
    "print 'Training: ', np.sqrt(mean_squared_error(y_train, y_train_ridge_pred))\n",
    "print 'Testing: ', np.sqrt(mean_squared_error(y_test, y_test_ridge_pred))\n",
    "print 'R^2: ', ridge_score"
   ]
  },
  {
   "cell_type": "code",
   "execution_count": 707,
   "metadata": {
    "collapsed": false
   },
   "outputs": [
    {
     "data": {
      "text/plain": [
       "<matplotlib.axes._subplots.AxesSubplot at 0x17d989b90>"
      ]
     },
     "execution_count": 707,
     "metadata": {},
     "output_type": "execute_result"
    },
    {
     "data": {
      "image/png": "[encoded data removed]",
      "text/plain": [
       "<matplotlib.figure.Figure at 0x148347b50>"
      ]
     },
     "metadata": {},
     "output_type": "display_data"
    }
   ],
   "source": [
    "sns.regplot(y_test_ridge_pred, y_test)"
   ]
  },
  {
   "cell_type": "code",
   "execution_count": 708,
   "metadata": {
    "collapsed": false
   },
   "outputs": [
    {
     "name": "stdout",
     "output_type": "stream",
     "text": [
      "Lambda Value: 0.001\n",
      "Training:  0.113418256231\n",
      "Testing:  0.101800425695\n",
      "R^2:  0.0727046538423\n"
     ]
    }
   ],
   "source": [
    "# Lasso Regression\n",
    "park_lasso = linear_model.LassoCV(alphas=[0.001,0.01,0.1,1,10,100], cv=3)\n",
    "park_lasso.fit(X_train, y_train)\n",
    "\n",
    "y_train_lasso_pred = park_lasso.predict(X_train)\n",
    "y_test_lasso_pred = park_lasso.predict(X_test)\n",
    "lasso_score = park_lasso.score(X_test, y_test)\n",
    "\n",
    "print \"Lambda Value:\", park_lasso.alpha_\n",
    "print 'Training: ', np.sqrt(mean_squared_error(y_train, y_train_lasso_pred))\n",
    "print 'Testing: ', np.sqrt(mean_squared_error(y_test, y_test_lasso_pred))\n",
    "print 'R^2: ', lasso_score"
   ]
  },
  {
   "cell_type": "code",
   "execution_count": 709,
   "metadata": {
    "collapsed": false
   },
   "outputs": [
    {
     "data": {
      "text/plain": [
       "<matplotlib.axes._subplots.AxesSubplot at 0x190550890>"
      ]
     },
     "execution_count": 709,
     "metadata": {},
     "output_type": "execute_result"
    },
    {
     "data": {
      "image/png": "[encoded data removed]",
      "text/plain": [
       "<matplotlib.figure.Figure at 0x18b996a90>"
      ]
     },
     "metadata": {},
     "output_type": "display_data"
    }
   ],
   "source": [
    "sns.regplot(y_test_lasso_pred, y_test)"
   ]
  },
  {
   "cell_type": "code",
   "execution_count": 710,
   "metadata": {
    "collapsed": false
   },
   "outputs": [
    {
     "name": "stdout",
     "output_type": "stream",
     "text": [
      "Lambda Value: 0.00145606879614\n",
      "Training:  0.113493058682\n",
      "Testing:  0.101713829681\n",
      "R^2:  0.0742815809832\n"
     ]
    }
   ],
   "source": [
    "# Elastic Net Regression\n",
    "park_enet = linear_model.ElasticNetCV(l1_ratio=[.1,.5,.7,.9,.99], n_alphas=100, cv=3)\n",
    "park_enet.fit(X_train, y_train)\n",
    "\n",
    "y_train_enet_pred = park_enet.predict(X_train)\n",
    "y_test_enet_pred = park_enet.predict(X_test)\n",
    "enet_score = park_enet.score(X_test, y_test)\n",
    "\n",
    "print \"Lambda Value:\", park_enet.alpha_\n",
    "print 'Training: ', np.sqrt(mean_squared_error(y_train, y_train_enet_pred))\n",
    "print 'Testing: ', np.sqrt(mean_squared_error(y_test, y_test_enet_pred))\n",
    "print 'R^2: ', enet_score"
   ]
  },
  {
   "cell_type": "code",
   "execution_count": 451,
   "metadata": {
    "collapsed": false
   },
   "outputs": [
    {
     "data": {
      "text/plain": [
       "<matplotlib.axes._subplots.AxesSubplot at 0x1257fa6d0>"
      ]
     },
     "execution_count": 451,
     "metadata": {},
     "output_type": "execute_result"
    },
    {
     "data": {
      "image/png": "[encoded data removed]",
      "text/plain": [
       "<matplotlib.figure.Figure at 0x157c8c850>"
      ]
     },
     "metadata": {},
     "output_type": "display_data"
    }
   ],
   "source": [
    "sns.regplot(y_test_enet_pred, y_test)"
   ]
  },
  {
   "cell_type": "code",
   "execution_count": 711,
   "metadata": {
    "collapsed": false
   },
   "outputs": [
    {
     "data": {
      "text/plain": [
       "array([-0.00221422, -0.0047703 ,  0.0006168 ,  0.02695263, -0.        ,\n",
       "        0.00981474,  0.00225911, -0.0126556 , -0.00382736, -0.00172275,\n",
       "        0.00847151, -0.        , -0.00061759, -0.0046902 ,  0.00011309,\n",
       "       -0.        ,  0.        ,  0.00032046,  0.        , -0.00112115])"
      ]
     },
     "execution_count": 711,
     "metadata": {},
     "output_type": "execute_result"
    }
   ],
   "source": [
    "pd.concat(parkpark_enet.coef_"
   ]
  },
  {
   "cell_type": "markdown",
   "metadata": {},
   "source": [
    "Looks like Elastic Net is the top performer, though none of "
   ]
  },
  {
   "cell_type": "markdown",
   "metadata": {},
   "source": [
    "<img src=\"http://imgur.com/l5NasQj.png\" style=\"float: left; margin: 25px 15px 0px 0px; height: 25px\">\n",
    "\n",
    "### 4. Conduct another, different analysis and report on it\n",
    "\n",
    "---\n",
    "\n",
    "1. Combining multiple sources of data (csv files) is required.\n",
    "- Perform EDA and cleaning on relevant data.\n",
    "- Construct and compare different regression models with cross-validation.\n",
    "- Plot descriptive visuals you think are useful for understanding the data.\n",
    "- Report on your findings.\n",
    "\n",
    "This section is just another analysis like the first sections, but is more open-ended in what models you decide to build and why. Don't feel obligated to try every out every regularized regression model (though it doesn't hurt). \n"
   ]
  },
  {
   "cell_type": "code",
   "execution_count": 527,
   "metadata": {
    "collapsed": false
   },
   "outputs": [],
   "source": [
    "# Get Data and Column names\n",
    "assessor_2007 = pd.read_csv('./san_francisco/assessor_office/assessor_data_2007_2008.csv')\n",
    "assessor_2008 = pd.read_csv('./san_francisco/assessor_office/assessor_data_2008_2009.csv')\n",
    "assessor_2009 = pd.read_csv('./san_francisco/assessor_office/assessor_data_2009_2010.csv')\n",
    "assessor_2010 = pd.read_csv('./san_francisco/assessor_office/assessor_data_2010_2011.csv')\n",
    "assessor_2011 = pd.read_csv('./san_francisco/assessor_office/assessor_data_2011_2012.csv')\n",
    "assessor_2012 = pd.read_csv('./san_francisco/assessor_office/assessor_data_2012_2013.csv')\n",
    "assessor_2013 = pd.read_csv('./san_francisco/assessor_office/assessor_data_2013_2014.csv')\n",
    "\n",
    "assessor_columns = pd.read_csv('./san_francisco/assessor_office/assessor_data_key.csv')\n",
    "\n",
    "assessor_dict = dict(zip(assessor_columns.iloc[:,0], assessor_columns.iloc[:,1]))\n",
    "assessor_dict['RP1RECDAT1'] = 'RECORDATION DATE'"
   ]
  },
  {
   "cell_type": "code",
   "execution_count": 609,
   "metadata": {
    "collapsed": false
   },
   "outputs": [],
   "source": [
    "# Make Single Dataframe\n",
    "assessor = pd.concat([assessor_2007,assessor_2008,assessor_2009,assessor_2010,assessor_2011,\n",
    "                         assessor_2012,assessor_2013])\n",
    "assessor.rename(columns=assessor_dict, inplace=True)"
   ]
  },
  {
   "cell_type": "code",
   "execution_count": 610,
   "metadata": {
    "collapsed": false
   },
   "outputs": [],
   "source": [
    "# Drop Columns with over 50% missing values or mostly zero values\n",
    "missing_columns = assessor.isnull().sum()/assessor.isnull().count() > .5\n",
    "assessor = assessor.ix[:, ~missing_columns]"
   ]
  },
  {
   "cell_type": "code",
   "execution_count": 611,
   "metadata": {
    "collapsed": false
   },
   "outputs": [
    {
     "name": "stdout",
     "output_type": "stream",
     "text": [
      "1405294\n",
      "1166009\n"
     ]
    }
   ],
   "source": [
    "# Drop Nonsensical Values\n",
    "print assessor.shape[0]\n",
    "assessor = assessor[assessor['Property Area in Square Feet'] > 0]\n",
    "assessor = assessor[assessor['Closed Roll Assessed Land Value'] > 0]\n",
    "assessor = assessor[(assessor['Year Property Built'] > 1776) & (assessor['Year Property Built'] < 2016)]\n",
    "assessor = assessor[assessor['Number of Rooms'] > 0]\n",
    "assessor = assessor[assessor['Basement Area'] >= 0]\n",
    "assessor = assessor[assessor['Number of Bedrooms'] < assessor['Number of Rooms']]\n",
    "print assessor.shape[0]"
   ]
  },
  {
   "cell_type": "code",
   "execution_count": 614,
   "metadata": {
    "collapsed": false
   },
   "outputs": [
    {
     "data": {
      "text/plain": [
       "Index([u'Volume Number', u'Year Property Built', u'Number of Bathrooms',\n",
       "       u'Number of Bedrooms', u'Number of Rooms', u'Number of Stories',\n",
       "       u'Number of Units', u'Characteristics Change Date (YYMM)', u'Lot Depth',\n",
       "       u'Lot Frontage', u'Property Area in Square Feet', u'Basement Area',\n",
       "       u'Lot Area', u'RECORDATION DATE', u'Document Number',\n",
       "       u'Tax Rate Area Code', u'Percent of Ownership',\n",
       "       u'Closed Roll Misc. Exemption Value',\n",
       "       u'Closed Roll Homeowner Exemption Value', u'Closed Roll Year',\n",
       "       u'Current Sales Date (YYMMDD)', u'Closed Roll Assessed Fixtures Value',\n",
       "       u'Closed Roll Assessed Improvement Value',\n",
       "       u'Closed Roll Assessed Land Value',\n",
       "       u'Closed Roll Assessed Personal Prop Value'],\n",
       "      dtype='object')"
      ]
     },
     "execution_count": 614,
     "metadata": {},
     "output_type": "execute_result"
    }
   ],
   "source": [
    "# Drop Categorical Variables\n",
    "assessor = assessor.select_dtypes(exclude=['object'])\n",
    "assessor.columns"
   ]
  },
  {
   "cell_type": "code",
   "execution_count": 615,
   "metadata": {
    "collapsed": false
   },
   "outputs": [],
   "source": [
    "# Drop Unnecessary Numerical Columns\n",
    "assessor = assessor.drop(['Volume Number', 'Characteristics Change Date (YYMM)', 'RECORDATION DATE', \n",
    "                          'Document Number', 'Tax Rate Area Code', 'Percent of Ownership', 'Closed Roll Year', \n",
    "                          'Current Sales Date (YYMMDD)'], axis=1)"
   ]
  },
  {
   "cell_type": "code",
   "execution_count": 616,
   "metadata": {
    "collapsed": false
   },
   "outputs": [],
   "source": [
    "# Add Log Closed Roll Assessed Improvement Value\n",
    "assessor['Log Closed Roll Assessed Improvement Value'] = np.log1p(assessor['Closed Roll Assessed Improvement Value'])"
   ]
  },
  {
   "cell_type": "code",
   "execution_count": 617,
   "metadata": {
    "collapsed": false,
    "scrolled": true
   },
   "outputs": [
    {
     "data": {
      "text/html": [
       "<div>\n",
       "<table border=\"1\" class=\"dataframe\">\n",
       "  <thead>\n",
       "    <tr style=\"text-align: right;\">\n",
       "      <th></th>\n",
       "      <th>Year Property Built</th>\n",
       "      <th>Number of Bathrooms</th>\n",
       "      <th>Number of Bedrooms</th>\n",
       "      <th>Number of Rooms</th>\n",
       "      <th>Number of Stories</th>\n",
       "      <th>Number of Units</th>\n",
       "      <th>Lot Depth</th>\n",
       "      <th>Lot Frontage</th>\n",
       "      <th>Property Area in Square Feet</th>\n",
       "      <th>Basement Area</th>\n",
       "      <th>Lot Area</th>\n",
       "      <th>Closed Roll Misc. Exemption Value</th>\n",
       "      <th>Closed Roll Homeowner Exemption Value</th>\n",
       "      <th>Closed Roll Assessed Improvement Value</th>\n",
       "      <th>Log Closed Roll Assessed Improvement Value</th>\n",
       "    </tr>\n",
       "  </thead>\n",
       "  <tbody>\n",
       "    <tr>\n",
       "      <th>0</th>\n",
       "      <td>1974</td>\n",
       "      <td>7</td>\n",
       "      <td>0</td>\n",
       "      <td>36</td>\n",
       "      <td>4</td>\n",
       "      <td>29</td>\n",
       "      <td>75.00</td>\n",
       "      <td>0.0</td>\n",
       "      <td>198525</td>\n",
       "      <td>0.0</td>\n",
       "      <td>57750.00</td>\n",
       "      <td>0.0</td>\n",
       "      <td>0.0</td>\n",
       "      <td>52020000.0</td>\n",
       "      <td>17.767139</td>\n",
       "    </tr>\n",
       "    <tr>\n",
       "      <th>1</th>\n",
       "      <td>1953</td>\n",
       "      <td>12</td>\n",
       "      <td>0</td>\n",
       "      <td>19</td>\n",
       "      <td>2</td>\n",
       "      <td>4</td>\n",
       "      <td>37.50</td>\n",
       "      <td>0.0</td>\n",
       "      <td>24627</td>\n",
       "      <td>0.0</td>\n",
       "      <td>18906.25</td>\n",
       "      <td>0.0</td>\n",
       "      <td>0.0</td>\n",
       "      <td>3959693.0</td>\n",
       "      <td>15.191677</td>\n",
       "    </tr>\n",
       "    <tr>\n",
       "      <th>2</th>\n",
       "      <td>1921</td>\n",
       "      <td>7</td>\n",
       "      <td>0</td>\n",
       "      <td>9</td>\n",
       "      <td>1</td>\n",
       "      <td>3</td>\n",
       "      <td>37.50</td>\n",
       "      <td>0.0</td>\n",
       "      <td>7073</td>\n",
       "      <td>0.0</td>\n",
       "      <td>63020.38</td>\n",
       "      <td>0.0</td>\n",
       "      <td>0.0</td>\n",
       "      <td>655352.0</td>\n",
       "      <td>13.392929</td>\n",
       "    </tr>\n",
       "    <tr>\n",
       "      <th>3</th>\n",
       "      <td>1948</td>\n",
       "      <td>2</td>\n",
       "      <td>0</td>\n",
       "      <td>5</td>\n",
       "      <td>1</td>\n",
       "      <td>1</td>\n",
       "      <td>36.00</td>\n",
       "      <td>0.0</td>\n",
       "      <td>6800</td>\n",
       "      <td>0.0</td>\n",
       "      <td>6800.00</td>\n",
       "      <td>0.0</td>\n",
       "      <td>0.0</td>\n",
       "      <td>725764.0</td>\n",
       "      <td>13.494982</td>\n",
       "    </tr>\n",
       "    <tr>\n",
       "      <th>4</th>\n",
       "      <td>1948</td>\n",
       "      <td>8</td>\n",
       "      <td>0</td>\n",
       "      <td>2</td>\n",
       "      <td>1</td>\n",
       "      <td>1</td>\n",
       "      <td>80.00</td>\n",
       "      <td>0.0</td>\n",
       "      <td>4000</td>\n",
       "      <td>0.0</td>\n",
       "      <td>11000.00</td>\n",
       "      <td>0.0</td>\n",
       "      <td>0.0</td>\n",
       "      <td>349138.0</td>\n",
       "      <td>12.763225</td>\n",
       "    </tr>\n",
       "    <tr>\n",
       "      <th>5</th>\n",
       "      <td>1948</td>\n",
       "      <td>5</td>\n",
       "      <td>0</td>\n",
       "      <td>1</td>\n",
       "      <td>1</td>\n",
       "      <td>1</td>\n",
       "      <td>70.00</td>\n",
       "      <td>0.0</td>\n",
       "      <td>3500</td>\n",
       "      <td>0.0</td>\n",
       "      <td>9625.00</td>\n",
       "      <td>0.0</td>\n",
       "      <td>0.0</td>\n",
       "      <td>160697.0</td>\n",
       "      <td>11.987282</td>\n",
       "    </tr>\n",
       "    <tr>\n",
       "      <th>6</th>\n",
       "      <td>1986</td>\n",
       "      <td>2</td>\n",
       "      <td>0</td>\n",
       "      <td>2</td>\n",
       "      <td>1</td>\n",
       "      <td>2</td>\n",
       "      <td>50.00</td>\n",
       "      <td>0.0</td>\n",
       "      <td>2500</td>\n",
       "      <td>0.0</td>\n",
       "      <td>6875.00</td>\n",
       "      <td>0.0</td>\n",
       "      <td>0.0</td>\n",
       "      <td>397825.0</td>\n",
       "      <td>12.893770</td>\n",
       "    </tr>\n",
       "    <tr>\n",
       "      <th>7</th>\n",
       "      <td>1937</td>\n",
       "      <td>4</td>\n",
       "      <td>0</td>\n",
       "      <td>11</td>\n",
       "      <td>2</td>\n",
       "      <td>1</td>\n",
       "      <td>75.00</td>\n",
       "      <td>0.0</td>\n",
       "      <td>15397</td>\n",
       "      <td>0.0</td>\n",
       "      <td>10312.50</td>\n",
       "      <td>0.0</td>\n",
       "      <td>0.0</td>\n",
       "      <td>455053.0</td>\n",
       "      <td>13.028171</td>\n",
       "    </tr>\n",
       "    <tr>\n",
       "      <th>8</th>\n",
       "      <td>1946</td>\n",
       "      <td>6</td>\n",
       "      <td>0</td>\n",
       "      <td>4</td>\n",
       "      <td>1</td>\n",
       "      <td>3</td>\n",
       "      <td>87.50</td>\n",
       "      <td>0.0</td>\n",
       "      <td>3281</td>\n",
       "      <td>0.0</td>\n",
       "      <td>3281.25</td>\n",
       "      <td>0.0</td>\n",
       "      <td>0.0</td>\n",
       "      <td>185350.0</td>\n",
       "      <td>12.130007</td>\n",
       "    </tr>\n",
       "    <tr>\n",
       "      <th>9</th>\n",
       "      <td>1974</td>\n",
       "      <td>2</td>\n",
       "      <td>0</td>\n",
       "      <td>7</td>\n",
       "      <td>4</td>\n",
       "      <td>2</td>\n",
       "      <td>37.50</td>\n",
       "      <td>0.0</td>\n",
       "      <td>81488</td>\n",
       "      <td>0.0</td>\n",
       "      <td>18906.25</td>\n",
       "      <td>0.0</td>\n",
       "      <td>0.0</td>\n",
       "      <td>1960955.0</td>\n",
       "      <td>14.488943</td>\n",
       "    </tr>\n",
       "    <tr>\n",
       "      <th>10</th>\n",
       "      <td>1974</td>\n",
       "      <td>12</td>\n",
       "      <td>0</td>\n",
       "      <td>15</td>\n",
       "      <td>4</td>\n",
       "      <td>11</td>\n",
       "      <td>37.50</td>\n",
       "      <td>0.0</td>\n",
       "      <td>54068</td>\n",
       "      <td>0.0</td>\n",
       "      <td>18906.25</td>\n",
       "      <td>0.0</td>\n",
       "      <td>0.0</td>\n",
       "      <td>2699866.0</td>\n",
       "      <td>14.808713</td>\n",
       "    </tr>\n",
       "    <tr>\n",
       "      <th>11</th>\n",
       "      <td>1966</td>\n",
       "      <td>7</td>\n",
       "      <td>0</td>\n",
       "      <td>30</td>\n",
       "      <td>3</td>\n",
       "      <td>4</td>\n",
       "      <td>0.00</td>\n",
       "      <td>0.0</td>\n",
       "      <td>40017</td>\n",
       "      <td>0.0</td>\n",
       "      <td>13750.00</td>\n",
       "      <td>0.0</td>\n",
       "      <td>0.0</td>\n",
       "      <td>1947595.0</td>\n",
       "      <td>14.482106</td>\n",
       "    </tr>\n",
       "    <tr>\n",
       "      <th>12</th>\n",
       "      <td>1968</td>\n",
       "      <td>4</td>\n",
       "      <td>0</td>\n",
       "      <td>12</td>\n",
       "      <td>2</td>\n",
       "      <td>1</td>\n",
       "      <td>37.50</td>\n",
       "      <td>0.0</td>\n",
       "      <td>6776</td>\n",
       "      <td>0.0</td>\n",
       "      <td>5156.25</td>\n",
       "      <td>0.0</td>\n",
       "      <td>0.0</td>\n",
       "      <td>210778.0</td>\n",
       "      <td>12.258565</td>\n",
       "    </tr>\n",
       "    <tr>\n",
       "      <th>13</th>\n",
       "      <td>1968</td>\n",
       "      <td>3</td>\n",
       "      <td>0</td>\n",
       "      <td>9</td>\n",
       "      <td>2</td>\n",
       "      <td>1</td>\n",
       "      <td>50.00</td>\n",
       "      <td>0.0</td>\n",
       "      <td>8954</td>\n",
       "      <td>0.0</td>\n",
       "      <td>6875.00</td>\n",
       "      <td>0.0</td>\n",
       "      <td>0.0</td>\n",
       "      <td>365576.0</td>\n",
       "      <td>12.809232</td>\n",
       "    </tr>\n",
       "    <tr>\n",
       "      <th>14</th>\n",
       "      <td>1959</td>\n",
       "      <td>51</td>\n",
       "      <td>0</td>\n",
       "      <td>63</td>\n",
       "      <td>3</td>\n",
       "      <td>51</td>\n",
       "      <td>0.00</td>\n",
       "      <td>0.0</td>\n",
       "      <td>15882</td>\n",
       "      <td>0.0</td>\n",
       "      <td>15154.00</td>\n",
       "      <td>0.0</td>\n",
       "      <td>0.0</td>\n",
       "      <td>697092.0</td>\n",
       "      <td>13.454674</td>\n",
       "    </tr>\n",
       "    <tr>\n",
       "      <th>15</th>\n",
       "      <td>1963</td>\n",
       "      <td>246</td>\n",
       "      <td>0</td>\n",
       "      <td>295</td>\n",
       "      <td>4</td>\n",
       "      <td>250</td>\n",
       "      <td>50.00</td>\n",
       "      <td>0.0</td>\n",
       "      <td>220932</td>\n",
       "      <td>0.0</td>\n",
       "      <td>13750.00</td>\n",
       "      <td>0.0</td>\n",
       "      <td>0.0</td>\n",
       "      <td>42314877.0</td>\n",
       "      <td>17.560649</td>\n",
       "    </tr>\n",
       "    <tr>\n",
       "      <th>16</th>\n",
       "      <td>1971</td>\n",
       "      <td>6</td>\n",
       "      <td>0</td>\n",
       "      <td>104</td>\n",
       "      <td>3</td>\n",
       "      <td>1</td>\n",
       "      <td>75.00</td>\n",
       "      <td>0.0</td>\n",
       "      <td>104424</td>\n",
       "      <td>0.0</td>\n",
       "      <td>37812.50</td>\n",
       "      <td>3595974.0</td>\n",
       "      <td>0.0</td>\n",
       "      <td>5677743.0</td>\n",
       "      <td>15.552065</td>\n",
       "    </tr>\n",
       "    <tr>\n",
       "      <th>17</th>\n",
       "      <td>1970</td>\n",
       "      <td>6</td>\n",
       "      <td>0</td>\n",
       "      <td>49</td>\n",
       "      <td>3</td>\n",
       "      <td>2</td>\n",
       "      <td>75.00</td>\n",
       "      <td>0.0</td>\n",
       "      <td>43366</td>\n",
       "      <td>0.0</td>\n",
       "      <td>37812.50</td>\n",
       "      <td>0.0</td>\n",
       "      <td>0.0</td>\n",
       "      <td>3307277.0</td>\n",
       "      <td>15.011636</td>\n",
       "    </tr>\n",
       "    <tr>\n",
       "      <th>18</th>\n",
       "      <td>1969</td>\n",
       "      <td>6</td>\n",
       "      <td>0</td>\n",
       "      <td>64</td>\n",
       "      <td>4</td>\n",
       "      <td>1</td>\n",
       "      <td>75.00</td>\n",
       "      <td>0.0</td>\n",
       "      <td>69204</td>\n",
       "      <td>0.0</td>\n",
       "      <td>37812.50</td>\n",
       "      <td>0.0</td>\n",
       "      <td>0.0</td>\n",
       "      <td>2748824.0</td>\n",
       "      <td>14.826684</td>\n",
       "    </tr>\n",
       "    <tr>\n",
       "      <th>19</th>\n",
       "      <td>1958</td>\n",
       "      <td>6</td>\n",
       "      <td>0</td>\n",
       "      <td>25</td>\n",
       "      <td>2</td>\n",
       "      <td>2</td>\n",
       "      <td>12.50</td>\n",
       "      <td>0.0</td>\n",
       "      <td>31656</td>\n",
       "      <td>0.0</td>\n",
       "      <td>113437.50</td>\n",
       "      <td>0.0</td>\n",
       "      <td>0.0</td>\n",
       "      <td>884476.0</td>\n",
       "      <td>13.692752</td>\n",
       "    </tr>\n",
       "    <tr>\n",
       "      <th>20</th>\n",
       "      <td>1969</td>\n",
       "      <td>4</td>\n",
       "      <td>0</td>\n",
       "      <td>5</td>\n",
       "      <td>1</td>\n",
       "      <td>6</td>\n",
       "      <td>37.50</td>\n",
       "      <td>0.0</td>\n",
       "      <td>3617</td>\n",
       "      <td>0.0</td>\n",
       "      <td>18906.25</td>\n",
       "      <td>0.0</td>\n",
       "      <td>0.0</td>\n",
       "      <td>2298628.0</td>\n",
       "      <td>14.647823</td>\n",
       "    </tr>\n",
       "    <tr>\n",
       "      <th>21</th>\n",
       "      <td>1983</td>\n",
       "      <td>3</td>\n",
       "      <td>0</td>\n",
       "      <td>243</td>\n",
       "      <td>4</td>\n",
       "      <td>0</td>\n",
       "      <td>75.00</td>\n",
       "      <td>0.0</td>\n",
       "      <td>73000</td>\n",
       "      <td>0.0</td>\n",
       "      <td>37812.50</td>\n",
       "      <td>0.0</td>\n",
       "      <td>0.0</td>\n",
       "      <td>21791864.0</td>\n",
       "      <td>16.897047</td>\n",
       "    </tr>\n",
       "    <tr>\n",
       "      <th>22</th>\n",
       "      <td>1947</td>\n",
       "      <td>6</td>\n",
       "      <td>0</td>\n",
       "      <td>9</td>\n",
       "      <td>0</td>\n",
       "      <td>5</td>\n",
       "      <td>0.00</td>\n",
       "      <td>0.0</td>\n",
       "      <td>19733</td>\n",
       "      <td>0.0</td>\n",
       "      <td>18205.00</td>\n",
       "      <td>0.0</td>\n",
       "      <td>0.0</td>\n",
       "      <td>604345.0</td>\n",
       "      <td>13.311902</td>\n",
       "    </tr>\n",
       "    <tr>\n",
       "      <th>23</th>\n",
       "      <td>2001</td>\n",
       "      <td>0</td>\n",
       "      <td>0</td>\n",
       "      <td>252</td>\n",
       "      <td>4</td>\n",
       "      <td>252</td>\n",
       "      <td>0.00</td>\n",
       "      <td>0.0</td>\n",
       "      <td>164650</td>\n",
       "      <td>0.0</td>\n",
       "      <td>38515.00</td>\n",
       "      <td>0.0</td>\n",
       "      <td>0.0</td>\n",
       "      <td>25935025.0</td>\n",
       "      <td>17.071105</td>\n",
       "    </tr>\n",
       "    <tr>\n",
       "      <th>24</th>\n",
       "      <td>1950</td>\n",
       "      <td>5</td>\n",
       "      <td>0</td>\n",
       "      <td>35</td>\n",
       "      <td>3</td>\n",
       "      <td>0</td>\n",
       "      <td>0.00</td>\n",
       "      <td>0.0</td>\n",
       "      <td>21556</td>\n",
       "      <td>0.0</td>\n",
       "      <td>15973.00</td>\n",
       "      <td>0.0</td>\n",
       "      <td>0.0</td>\n",
       "      <td>2811734.0</td>\n",
       "      <td>14.849312</td>\n",
       "    </tr>\n",
       "    <tr>\n",
       "      <th>25</th>\n",
       "      <td>1951</td>\n",
       "      <td>2</td>\n",
       "      <td>0</td>\n",
       "      <td>9</td>\n",
       "      <td>4</td>\n",
       "      <td>1</td>\n",
       "      <td>0.00</td>\n",
       "      <td>0.0</td>\n",
       "      <td>15706</td>\n",
       "      <td>0.0</td>\n",
       "      <td>4519.00</td>\n",
       "      <td>0.0</td>\n",
       "      <td>0.0</td>\n",
       "      <td>1215646.0</td>\n",
       "      <td>14.010787</td>\n",
       "    </tr>\n",
       "    <tr>\n",
       "      <th>26</th>\n",
       "      <td>1970</td>\n",
       "      <td>343</td>\n",
       "      <td>0</td>\n",
       "      <td>343</td>\n",
       "      <td>5</td>\n",
       "      <td>343</td>\n",
       "      <td>0.00</td>\n",
       "      <td>0.0</td>\n",
       "      <td>249352</td>\n",
       "      <td>0.0</td>\n",
       "      <td>81060.00</td>\n",
       "      <td>0.0</td>\n",
       "      <td>0.0</td>\n",
       "      <td>0.0</td>\n",
       "      <td>0.000000</td>\n",
       "    </tr>\n",
       "    <tr>\n",
       "      <th>27</th>\n",
       "      <td>1906</td>\n",
       "      <td>2</td>\n",
       "      <td>0</td>\n",
       "      <td>10</td>\n",
       "      <td>2</td>\n",
       "      <td>2</td>\n",
       "      <td>76.78</td>\n",
       "      <td>0.0</td>\n",
       "      <td>2770</td>\n",
       "      <td>0.0</td>\n",
       "      <td>1791.28</td>\n",
       "      <td>0.0</td>\n",
       "      <td>0.0</td>\n",
       "      <td>728280.0</td>\n",
       "      <td>13.498442</td>\n",
       "    </tr>\n",
       "    <tr>\n",
       "      <th>28</th>\n",
       "      <td>1906</td>\n",
       "      <td>5</td>\n",
       "      <td>0</td>\n",
       "      <td>13</td>\n",
       "      <td>2</td>\n",
       "      <td>6</td>\n",
       "      <td>0.00</td>\n",
       "      <td>0.0</td>\n",
       "      <td>2812</td>\n",
       "      <td>0.0</td>\n",
       "      <td>1698.00</td>\n",
       "      <td>0.0</td>\n",
       "      <td>7000.0</td>\n",
       "      <td>363499.0</td>\n",
       "      <td>12.803535</td>\n",
       "    </tr>\n",
       "    <tr>\n",
       "      <th>29</th>\n",
       "      <td>1989</td>\n",
       "      <td>2</td>\n",
       "      <td>4</td>\n",
       "      <td>12</td>\n",
       "      <td>3</td>\n",
       "      <td>1</td>\n",
       "      <td>80.00</td>\n",
       "      <td>0.0</td>\n",
       "      <td>3402</td>\n",
       "      <td>0.0</td>\n",
       "      <td>1833.60</td>\n",
       "      <td>0.0</td>\n",
       "      <td>0.0</td>\n",
       "      <td>328585.0</td>\n",
       "      <td>12.702554</td>\n",
       "    </tr>\n",
       "    <tr>\n",
       "      <th>...</th>\n",
       "      <td>...</td>\n",
       "      <td>...</td>\n",
       "      <td>...</td>\n",
       "      <td>...</td>\n",
       "      <td>...</td>\n",
       "      <td>...</td>\n",
       "      <td>...</td>\n",
       "      <td>...</td>\n",
       "      <td>...</td>\n",
       "      <td>...</td>\n",
       "      <td>...</td>\n",
       "      <td>...</td>\n",
       "      <td>...</td>\n",
       "      <td>...</td>\n",
       "      <td>...</td>\n",
       "    </tr>\n",
       "    <tr>\n",
       "      <th>1165979</th>\n",
       "      <td>2012</td>\n",
       "      <td>2</td>\n",
       "      <td>2</td>\n",
       "      <td>4</td>\n",
       "      <td>0</td>\n",
       "      <td>0</td>\n",
       "      <td>0.00</td>\n",
       "      <td>0.0</td>\n",
       "      <td>1562</td>\n",
       "      <td>0.0</td>\n",
       "      <td>0.00</td>\n",
       "      <td>0.0</td>\n",
       "      <td>7000.0</td>\n",
       "      <td>535925.0</td>\n",
       "      <td>13.191751</td>\n",
       "    </tr>\n",
       "    <tr>\n",
       "      <th>1165980</th>\n",
       "      <td>2012</td>\n",
       "      <td>2</td>\n",
       "      <td>2</td>\n",
       "      <td>4</td>\n",
       "      <td>0</td>\n",
       "      <td>0</td>\n",
       "      <td>0.00</td>\n",
       "      <td>0.0</td>\n",
       "      <td>1332</td>\n",
       "      <td>0.0</td>\n",
       "      <td>0.00</td>\n",
       "      <td>0.0</td>\n",
       "      <td>0.0</td>\n",
       "      <td>672000.0</td>\n",
       "      <td>13.418015</td>\n",
       "    </tr>\n",
       "    <tr>\n",
       "      <th>1165981</th>\n",
       "      <td>2012</td>\n",
       "      <td>2</td>\n",
       "      <td>3</td>\n",
       "      <td>5</td>\n",
       "      <td>0</td>\n",
       "      <td>0</td>\n",
       "      <td>0.00</td>\n",
       "      <td>0.0</td>\n",
       "      <td>1921</td>\n",
       "      <td>0.0</td>\n",
       "      <td>0.00</td>\n",
       "      <td>0.0</td>\n",
       "      <td>7000.0</td>\n",
       "      <td>909375.0</td>\n",
       "      <td>13.720514</td>\n",
       "    </tr>\n",
       "    <tr>\n",
       "      <th>1165982</th>\n",
       "      <td>2012</td>\n",
       "      <td>2</td>\n",
       "      <td>2</td>\n",
       "      <td>4</td>\n",
       "      <td>0</td>\n",
       "      <td>0</td>\n",
       "      <td>0.00</td>\n",
       "      <td>0.0</td>\n",
       "      <td>1492</td>\n",
       "      <td>0.0</td>\n",
       "      <td>0.00</td>\n",
       "      <td>0.0</td>\n",
       "      <td>7000.0</td>\n",
       "      <td>631000.0</td>\n",
       "      <td>13.355063</td>\n",
       "    </tr>\n",
       "    <tr>\n",
       "      <th>1165983</th>\n",
       "      <td>2012</td>\n",
       "      <td>2</td>\n",
       "      <td>2</td>\n",
       "      <td>4</td>\n",
       "      <td>0</td>\n",
       "      <td>0</td>\n",
       "      <td>0.00</td>\n",
       "      <td>0.0</td>\n",
       "      <td>1576</td>\n",
       "      <td>0.0</td>\n",
       "      <td>0.00</td>\n",
       "      <td>0.0</td>\n",
       "      <td>0.0</td>\n",
       "      <td>509250.0</td>\n",
       "      <td>13.140696</td>\n",
       "    </tr>\n",
       "    <tr>\n",
       "      <th>1165984</th>\n",
       "      <td>2012</td>\n",
       "      <td>2</td>\n",
       "      <td>2</td>\n",
       "      <td>4</td>\n",
       "      <td>0</td>\n",
       "      <td>0</td>\n",
       "      <td>0.00</td>\n",
       "      <td>0.0</td>\n",
       "      <td>1344</td>\n",
       "      <td>0.0</td>\n",
       "      <td>0.00</td>\n",
       "      <td>0.0</td>\n",
       "      <td>0.0</td>\n",
       "      <td>638500.0</td>\n",
       "      <td>13.366879</td>\n",
       "    </tr>\n",
       "    <tr>\n",
       "      <th>1165985</th>\n",
       "      <td>2012</td>\n",
       "      <td>2</td>\n",
       "      <td>3</td>\n",
       "      <td>5</td>\n",
       "      <td>0</td>\n",
       "      <td>0</td>\n",
       "      <td>0.00</td>\n",
       "      <td>0.0</td>\n",
       "      <td>1921</td>\n",
       "      <td>0.0</td>\n",
       "      <td>0.00</td>\n",
       "      <td>0.0</td>\n",
       "      <td>0.0</td>\n",
       "      <td>945000.0</td>\n",
       "      <td>13.758941</td>\n",
       "    </tr>\n",
       "    <tr>\n",
       "      <th>1165986</th>\n",
       "      <td>2012</td>\n",
       "      <td>2</td>\n",
       "      <td>2</td>\n",
       "      <td>4</td>\n",
       "      <td>0</td>\n",
       "      <td>0</td>\n",
       "      <td>0.00</td>\n",
       "      <td>0.0</td>\n",
       "      <td>1492</td>\n",
       "      <td>0.0</td>\n",
       "      <td>0.00</td>\n",
       "      <td>0.0</td>\n",
       "      <td>0.0</td>\n",
       "      <td>681750.0</td>\n",
       "      <td>13.432420</td>\n",
       "    </tr>\n",
       "    <tr>\n",
       "      <th>1165987</th>\n",
       "      <td>2012</td>\n",
       "      <td>2</td>\n",
       "      <td>2</td>\n",
       "      <td>4</td>\n",
       "      <td>0</td>\n",
       "      <td>0</td>\n",
       "      <td>0.00</td>\n",
       "      <td>0.0</td>\n",
       "      <td>1562</td>\n",
       "      <td>0.0</td>\n",
       "      <td>0.00</td>\n",
       "      <td>0.0</td>\n",
       "      <td>0.0</td>\n",
       "      <td>557500.0</td>\n",
       "      <td>13.231220</td>\n",
       "    </tr>\n",
       "    <tr>\n",
       "      <th>1165988</th>\n",
       "      <td>2012</td>\n",
       "      <td>2</td>\n",
       "      <td>2</td>\n",
       "      <td>4</td>\n",
       "      <td>0</td>\n",
       "      <td>0</td>\n",
       "      <td>0.00</td>\n",
       "      <td>0.0</td>\n",
       "      <td>1332</td>\n",
       "      <td>0.0</td>\n",
       "      <td>0.00</td>\n",
       "      <td>0.0</td>\n",
       "      <td>7000.0</td>\n",
       "      <td>677000.0</td>\n",
       "      <td>13.425428</td>\n",
       "    </tr>\n",
       "    <tr>\n",
       "      <th>1165989</th>\n",
       "      <td>2012</td>\n",
       "      <td>2</td>\n",
       "      <td>3</td>\n",
       "      <td>5</td>\n",
       "      <td>0</td>\n",
       "      <td>0</td>\n",
       "      <td>0.00</td>\n",
       "      <td>0.0</td>\n",
       "      <td>1921</td>\n",
       "      <td>0.0</td>\n",
       "      <td>0.00</td>\n",
       "      <td>0.0</td>\n",
       "      <td>0.0</td>\n",
       "      <td>942500.0</td>\n",
       "      <td>13.756292</td>\n",
       "    </tr>\n",
       "    <tr>\n",
       "      <th>1165990</th>\n",
       "      <td>2012</td>\n",
       "      <td>2</td>\n",
       "      <td>2</td>\n",
       "      <td>4</td>\n",
       "      <td>0</td>\n",
       "      <td>0</td>\n",
       "      <td>0.00</td>\n",
       "      <td>0.0</td>\n",
       "      <td>1492</td>\n",
       "      <td>0.0</td>\n",
       "      <td>0.00</td>\n",
       "      <td>0.0</td>\n",
       "      <td>0.0</td>\n",
       "      <td>636000.0</td>\n",
       "      <td>13.362955</td>\n",
       "    </tr>\n",
       "    <tr>\n",
       "      <th>1165991</th>\n",
       "      <td>2012</td>\n",
       "      <td>2</td>\n",
       "      <td>2</td>\n",
       "      <td>4</td>\n",
       "      <td>0</td>\n",
       "      <td>0</td>\n",
       "      <td>0.00</td>\n",
       "      <td>0.0</td>\n",
       "      <td>1576</td>\n",
       "      <td>0.0</td>\n",
       "      <td>0.00</td>\n",
       "      <td>0.0</td>\n",
       "      <td>7000.0</td>\n",
       "      <td>520000.0</td>\n",
       "      <td>13.161586</td>\n",
       "    </tr>\n",
       "    <tr>\n",
       "      <th>1165992</th>\n",
       "      <td>2012</td>\n",
       "      <td>2</td>\n",
       "      <td>2</td>\n",
       "      <td>4</td>\n",
       "      <td>0</td>\n",
       "      <td>0</td>\n",
       "      <td>0.00</td>\n",
       "      <td>0.0</td>\n",
       "      <td>1344</td>\n",
       "      <td>0.0</td>\n",
       "      <td>0.00</td>\n",
       "      <td>0.0</td>\n",
       "      <td>0.0</td>\n",
       "      <td>644000.0</td>\n",
       "      <td>13.375456</td>\n",
       "    </tr>\n",
       "    <tr>\n",
       "      <th>1165993</th>\n",
       "      <td>2012</td>\n",
       "      <td>2</td>\n",
       "      <td>3</td>\n",
       "      <td>5</td>\n",
       "      <td>0</td>\n",
       "      <td>0</td>\n",
       "      <td>0.00</td>\n",
       "      <td>0.0</td>\n",
       "      <td>1921</td>\n",
       "      <td>0.0</td>\n",
       "      <td>0.00</td>\n",
       "      <td>0.0</td>\n",
       "      <td>0.0</td>\n",
       "      <td>921500.0</td>\n",
       "      <td>13.733759</td>\n",
       "    </tr>\n",
       "    <tr>\n",
       "      <th>1165994</th>\n",
       "      <td>2012</td>\n",
       "      <td>2</td>\n",
       "      <td>2</td>\n",
       "      <td>4</td>\n",
       "      <td>0</td>\n",
       "      <td>0</td>\n",
       "      <td>0.00</td>\n",
       "      <td>0.0</td>\n",
       "      <td>1492</td>\n",
       "      <td>0.0</td>\n",
       "      <td>0.00</td>\n",
       "      <td>0.0</td>\n",
       "      <td>0.0</td>\n",
       "      <td>700000.0</td>\n",
       "      <td>13.458837</td>\n",
       "    </tr>\n",
       "    <tr>\n",
       "      <th>1165995</th>\n",
       "      <td>2012</td>\n",
       "      <td>2</td>\n",
       "      <td>2</td>\n",
       "      <td>4</td>\n",
       "      <td>0</td>\n",
       "      <td>0</td>\n",
       "      <td>0.00</td>\n",
       "      <td>0.0</td>\n",
       "      <td>1562</td>\n",
       "      <td>0.0</td>\n",
       "      <td>0.00</td>\n",
       "      <td>0.0</td>\n",
       "      <td>7000.0</td>\n",
       "      <td>545625.0</td>\n",
       "      <td>13.209689</td>\n",
       "    </tr>\n",
       "    <tr>\n",
       "      <th>1165996</th>\n",
       "      <td>2012</td>\n",
       "      <td>2</td>\n",
       "      <td>2</td>\n",
       "      <td>4</td>\n",
       "      <td>0</td>\n",
       "      <td>0</td>\n",
       "      <td>0.00</td>\n",
       "      <td>0.0</td>\n",
       "      <td>1332</td>\n",
       "      <td>0.0</td>\n",
       "      <td>0.00</td>\n",
       "      <td>0.0</td>\n",
       "      <td>7000.0</td>\n",
       "      <td>647434.0</td>\n",
       "      <td>13.380774</td>\n",
       "    </tr>\n",
       "    <tr>\n",
       "      <th>1165997</th>\n",
       "      <td>2012</td>\n",
       "      <td>2</td>\n",
       "      <td>3</td>\n",
       "      <td>5</td>\n",
       "      <td>0</td>\n",
       "      <td>0</td>\n",
       "      <td>0.00</td>\n",
       "      <td>0.0</td>\n",
       "      <td>1921</td>\n",
       "      <td>0.0</td>\n",
       "      <td>0.00</td>\n",
       "      <td>0.0</td>\n",
       "      <td>0.0</td>\n",
       "      <td>912500.0</td>\n",
       "      <td>13.723944</td>\n",
       "    </tr>\n",
       "    <tr>\n",
       "      <th>1165998</th>\n",
       "      <td>2012</td>\n",
       "      <td>2</td>\n",
       "      <td>2</td>\n",
       "      <td>4</td>\n",
       "      <td>0</td>\n",
       "      <td>0</td>\n",
       "      <td>0.00</td>\n",
       "      <td>0.0</td>\n",
       "      <td>1492</td>\n",
       "      <td>0.0</td>\n",
       "      <td>0.00</td>\n",
       "      <td>0.0</td>\n",
       "      <td>0.0</td>\n",
       "      <td>641000.0</td>\n",
       "      <td>13.370786</td>\n",
       "    </tr>\n",
       "    <tr>\n",
       "      <th>1165999</th>\n",
       "      <td>2012</td>\n",
       "      <td>2</td>\n",
       "      <td>2</td>\n",
       "      <td>4</td>\n",
       "      <td>0</td>\n",
       "      <td>0</td>\n",
       "      <td>0.00</td>\n",
       "      <td>0.0</td>\n",
       "      <td>1576</td>\n",
       "      <td>0.0</td>\n",
       "      <td>0.00</td>\n",
       "      <td>0.0</td>\n",
       "      <td>7000.0</td>\n",
       "      <td>509250.0</td>\n",
       "      <td>13.140696</td>\n",
       "    </tr>\n",
       "    <tr>\n",
       "      <th>1166000</th>\n",
       "      <td>2012</td>\n",
       "      <td>2</td>\n",
       "      <td>2</td>\n",
       "      <td>4</td>\n",
       "      <td>0</td>\n",
       "      <td>0</td>\n",
       "      <td>0.00</td>\n",
       "      <td>0.0</td>\n",
       "      <td>1344</td>\n",
       "      <td>0.0</td>\n",
       "      <td>0.00</td>\n",
       "      <td>0.0</td>\n",
       "      <td>7000.0</td>\n",
       "      <td>649000.0</td>\n",
       "      <td>13.383190</td>\n",
       "    </tr>\n",
       "    <tr>\n",
       "      <th>1166001</th>\n",
       "      <td>2012</td>\n",
       "      <td>2</td>\n",
       "      <td>3</td>\n",
       "      <td>5</td>\n",
       "      <td>0</td>\n",
       "      <td>0</td>\n",
       "      <td>0.00</td>\n",
       "      <td>0.0</td>\n",
       "      <td>1921</td>\n",
       "      <td>0.0</td>\n",
       "      <td>0.00</td>\n",
       "      <td>0.0</td>\n",
       "      <td>0.0</td>\n",
       "      <td>1278204.0</td>\n",
       "      <td>14.060967</td>\n",
       "    </tr>\n",
       "    <tr>\n",
       "      <th>1166002</th>\n",
       "      <td>2012</td>\n",
       "      <td>2</td>\n",
       "      <td>2</td>\n",
       "      <td>4</td>\n",
       "      <td>0</td>\n",
       "      <td>0</td>\n",
       "      <td>0.00</td>\n",
       "      <td>0.0</td>\n",
       "      <td>1492</td>\n",
       "      <td>0.0</td>\n",
       "      <td>0.00</td>\n",
       "      <td>0.0</td>\n",
       "      <td>0.0</td>\n",
       "      <td>993537.0</td>\n",
       "      <td>13.809028</td>\n",
       "    </tr>\n",
       "    <tr>\n",
       "      <th>1166003</th>\n",
       "      <td>2012</td>\n",
       "      <td>2</td>\n",
       "      <td>2</td>\n",
       "      <td>4</td>\n",
       "      <td>0</td>\n",
       "      <td>0</td>\n",
       "      <td>0.00</td>\n",
       "      <td>0.0</td>\n",
       "      <td>1562</td>\n",
       "      <td>0.0</td>\n",
       "      <td>0.00</td>\n",
       "      <td>0.0</td>\n",
       "      <td>0.0</td>\n",
       "      <td>1038193.0</td>\n",
       "      <td>13.852993</td>\n",
       "    </tr>\n",
       "    <tr>\n",
       "      <th>1166004</th>\n",
       "      <td>2012</td>\n",
       "      <td>2</td>\n",
       "      <td>2</td>\n",
       "      <td>4</td>\n",
       "      <td>0</td>\n",
       "      <td>0</td>\n",
       "      <td>0.00</td>\n",
       "      <td>0.0</td>\n",
       "      <td>1332</td>\n",
       "      <td>0.0</td>\n",
       "      <td>0.00</td>\n",
       "      <td>0.0</td>\n",
       "      <td>0.0</td>\n",
       "      <td>887486.0</td>\n",
       "      <td>13.696149</td>\n",
       "    </tr>\n",
       "    <tr>\n",
       "      <th>1166005</th>\n",
       "      <td>2012</td>\n",
       "      <td>2</td>\n",
       "      <td>3</td>\n",
       "      <td>5</td>\n",
       "      <td>0</td>\n",
       "      <td>0</td>\n",
       "      <td>0.00</td>\n",
       "      <td>0.0</td>\n",
       "      <td>1921</td>\n",
       "      <td>0.0</td>\n",
       "      <td>0.00</td>\n",
       "      <td>0.0</td>\n",
       "      <td>7000.0</td>\n",
       "      <td>889000.0</td>\n",
       "      <td>13.697854</td>\n",
       "    </tr>\n",
       "    <tr>\n",
       "      <th>1166006</th>\n",
       "      <td>2012</td>\n",
       "      <td>2</td>\n",
       "      <td>2</td>\n",
       "      <td>4</td>\n",
       "      <td>0</td>\n",
       "      <td>0</td>\n",
       "      <td>0.00</td>\n",
       "      <td>0.0</td>\n",
       "      <td>1492</td>\n",
       "      <td>0.0</td>\n",
       "      <td>0.00</td>\n",
       "      <td>0.0</td>\n",
       "      <td>0.0</td>\n",
       "      <td>656500.0</td>\n",
       "      <td>13.394679</td>\n",
       "    </tr>\n",
       "    <tr>\n",
       "      <th>1166007</th>\n",
       "      <td>2012</td>\n",
       "      <td>2</td>\n",
       "      <td>2</td>\n",
       "      <td>4</td>\n",
       "      <td>0</td>\n",
       "      <td>0</td>\n",
       "      <td>0.00</td>\n",
       "      <td>0.0</td>\n",
       "      <td>1576</td>\n",
       "      <td>0.0</td>\n",
       "      <td>0.00</td>\n",
       "      <td>0.0</td>\n",
       "      <td>0.0</td>\n",
       "      <td>523800.0</td>\n",
       "      <td>13.168867</td>\n",
       "    </tr>\n",
       "    <tr>\n",
       "      <th>1166008</th>\n",
       "      <td>2012</td>\n",
       "      <td>2</td>\n",
       "      <td>2</td>\n",
       "      <td>4</td>\n",
       "      <td>0</td>\n",
       "      <td>0</td>\n",
       "      <td>0.00</td>\n",
       "      <td>0.0</td>\n",
       "      <td>1344</td>\n",
       "      <td>0.0</td>\n",
       "      <td>0.00</td>\n",
       "      <td>0.0</td>\n",
       "      <td>0.0</td>\n",
       "      <td>611000.0</td>\n",
       "      <td>13.322854</td>\n",
       "    </tr>\n",
       "  </tbody>\n",
       "</table>\n",
       "<p>1166009 rows × 15 columns</p>\n",
       "</div>"
      ],
      "text/plain": [
       "         Year Property Built  Number of Bathrooms  Number of Bedrooms  \\\n",
       "0                       1974                    7                   0   \n",
       "1                       1953                   12                   0   \n",
       "2                       1921                    7                   0   \n",
       "3                       1948                    2                   0   \n",
       "4                       1948                    8                   0   \n",
       "5                       1948                    5                   0   \n",
       "6                       1986                    2                   0   \n",
       "7                       1937                    4                   0   \n",
       "8                       1946                    6                   0   \n",
       "9                       1974                    2                   0   \n",
       "10                      1974                   12                   0   \n",
       "11                      1966                    7                   0   \n",
       "12                      1968                    4                   0   \n",
       "13                      1968                    3                   0   \n",
       "14                      1959                   51                   0   \n",
       "15                      1963                  246                   0   \n",
       "16                      1971                    6                   0   \n",
       "17                      1970                    6                   0   \n",
       "18                      1969                    6                   0   \n",
       "19                      1958                    6                   0   \n",
       "20                      1969                    4                   0   \n",
       "21                      1983                    3                   0   \n",
       "22                      1947                    6                   0   \n",
       "23                      2001                    0                   0   \n",
       "24                      1950                    5                   0   \n",
       "25                      1951                    2                   0   \n",
       "26                      1970                  343                   0   \n",
       "27                      1906                    2                   0   \n",
       "28                      1906                    5                   0   \n",
       "29                      1989                    2                   4   \n",
       "...                      ...                  ...                 ...   \n",
       "1165979                 2012                    2                   2   \n",
       "1165980                 2012                    2                   2   \n",
       "1165981                 2012                    2                   3   \n",
       "1165982                 2012                    2                   2   \n",
       "1165983                 2012                    2                   2   \n",
       "1165984                 2012                    2                   2   \n",
       "1165985                 2012                    2                   3   \n",
       "1165986                 2012                    2                   2   \n",
       "1165987                 2012                    2                   2   \n",
       "1165988                 2012                    2                   2   \n",
       "1165989                 2012                    2                   3   \n",
       "1165990                 2012                    2                   2   \n",
       "1165991                 2012                    2                   2   \n",
       "1165992                 2012                    2                   2   \n",
       "1165993                 2012                    2                   3   \n",
       "1165994                 2012                    2                   2   \n",
       "1165995                 2012                    2                   2   \n",
       "1165996                 2012                    2                   2   \n",
       "1165997                 2012                    2                   3   \n",
       "1165998                 2012                    2                   2   \n",
       "1165999                 2012                    2                   2   \n",
       "1166000                 2012                    2                   2   \n",
       "1166001                 2012                    2                   3   \n",
       "1166002                 2012                    2                   2   \n",
       "1166003                 2012                    2                   2   \n",
       "1166004                 2012                    2                   2   \n",
       "1166005                 2012                    2                   3   \n",
       "1166006                 2012                    2                   2   \n",
       "1166007                 2012                    2                   2   \n",
       "1166008                 2012                    2                   2   \n",
       "\n",
       "         Number of Rooms  Number of Stories  Number of Units  Lot Depth  \\\n",
       "0                     36                  4               29      75.00   \n",
       "1                     19                  2                4      37.50   \n",
       "2                      9                  1                3      37.50   \n",
       "3                      5                  1                1      36.00   \n",
       "4                      2                  1                1      80.00   \n",
       "5                      1                  1                1      70.00   \n",
       "6                      2                  1                2      50.00   \n",
       "7                     11                  2                1      75.00   \n",
       "8                      4                  1                3      87.50   \n",
       "9                      7                  4                2      37.50   \n",
       "10                    15                  4               11      37.50   \n",
       "11                    30                  3                4       0.00   \n",
       "12                    12                  2                1      37.50   \n",
       "13                     9                  2                1      50.00   \n",
       "14                    63                  3               51       0.00   \n",
       "15                   295                  4              250      50.00   \n",
       "16                   104                  3                1      75.00   \n",
       "17                    49                  3                2      75.00   \n",
       "18                    64                  4                1      75.00   \n",
       "19                    25                  2                2      12.50   \n",
       "20                     5                  1                6      37.50   \n",
       "21                   243                  4                0      75.00   \n",
       "22                     9                  0                5       0.00   \n",
       "23                   252                  4              252       0.00   \n",
       "24                    35                  3                0       0.00   \n",
       "25                     9                  4                1       0.00   \n",
       "26                   343                  5              343       0.00   \n",
       "27                    10                  2                2      76.78   \n",
       "28                    13                  2                6       0.00   \n",
       "29                    12                  3                1      80.00   \n",
       "...                  ...                ...              ...        ...   \n",
       "1165979                4                  0                0       0.00   \n",
       "1165980                4                  0                0       0.00   \n",
       "1165981                5                  0                0       0.00   \n",
       "1165982                4                  0                0       0.00   \n",
       "1165983                4                  0                0       0.00   \n",
       "1165984                4                  0                0       0.00   \n",
       "1165985                5                  0                0       0.00   \n",
       "1165986                4                  0                0       0.00   \n",
       "1165987                4                  0                0       0.00   \n",
       "1165988                4                  0                0       0.00   \n",
       "1165989                5                  0                0       0.00   \n",
       "1165990                4                  0                0       0.00   \n",
       "1165991                4                  0                0       0.00   \n",
       "1165992                4                  0                0       0.00   \n",
       "1165993                5                  0                0       0.00   \n",
       "1165994                4                  0                0       0.00   \n",
       "1165995                4                  0                0       0.00   \n",
       "1165996                4                  0                0       0.00   \n",
       "1165997                5                  0                0       0.00   \n",
       "1165998                4                  0                0       0.00   \n",
       "1165999                4                  0                0       0.00   \n",
       "1166000                4                  0                0       0.00   \n",
       "1166001                5                  0                0       0.00   \n",
       "1166002                4                  0                0       0.00   \n",
       "1166003                4                  0                0       0.00   \n",
       "1166004                4                  0                0       0.00   \n",
       "1166005                5                  0                0       0.00   \n",
       "1166006                4                  0                0       0.00   \n",
       "1166007                4                  0                0       0.00   \n",
       "1166008                4                  0                0       0.00   \n",
       "\n",
       "         Lot Frontage  Property Area in Square Feet  Basement Area   Lot Area  \\\n",
       "0                 0.0                        198525            0.0   57750.00   \n",
       "1                 0.0                         24627            0.0   18906.25   \n",
       "2                 0.0                          7073            0.0   63020.38   \n",
       "3                 0.0                          6800            0.0    6800.00   \n",
       "4                 0.0                          4000            0.0   11000.00   \n",
       "5                 0.0                          3500            0.0    9625.00   \n",
       "6                 0.0                          2500            0.0    6875.00   \n",
       "7                 0.0                         15397            0.0   10312.50   \n",
       "8                 0.0                          3281            0.0    3281.25   \n",
       "9                 0.0                         81488            0.0   18906.25   \n",
       "10                0.0                         54068            0.0   18906.25   \n",
       "11                0.0                         40017            0.0   13750.00   \n",
       "12                0.0                          6776            0.0    5156.25   \n",
       "13                0.0                          8954            0.0    6875.00   \n",
       "14                0.0                         15882            0.0   15154.00   \n",
       "15                0.0                        220932            0.0   13750.00   \n",
       "16                0.0                        104424            0.0   37812.50   \n",
       "17                0.0                         43366            0.0   37812.50   \n",
       "18                0.0                         69204            0.0   37812.50   \n",
       "19                0.0                         31656            0.0  113437.50   \n",
       "20                0.0                          3617            0.0   18906.25   \n",
       "21                0.0                         73000            0.0   37812.50   \n",
       "22                0.0                         19733            0.0   18205.00   \n",
       "23                0.0                        164650            0.0   38515.00   \n",
       "24                0.0                         21556            0.0   15973.00   \n",
       "25                0.0                         15706            0.0    4519.00   \n",
       "26                0.0                        249352            0.0   81060.00   \n",
       "27                0.0                          2770            0.0    1791.28   \n",
       "28                0.0                          2812            0.0    1698.00   \n",
       "29                0.0                          3402            0.0    1833.60   \n",
       "...               ...                           ...            ...        ...   \n",
       "1165979           0.0                          1562            0.0       0.00   \n",
       "1165980           0.0                          1332            0.0       0.00   \n",
       "1165981           0.0                          1921            0.0       0.00   \n",
       "1165982           0.0                          1492            0.0       0.00   \n",
       "1165983           0.0                          1576            0.0       0.00   \n",
       "1165984           0.0                          1344            0.0       0.00   \n",
       "1165985           0.0                          1921            0.0       0.00   \n",
       "1165986           0.0                          1492            0.0       0.00   \n",
       "1165987           0.0                          1562            0.0       0.00   \n",
       "1165988           0.0                          1332            0.0       0.00   \n",
       "1165989           0.0                          1921            0.0       0.00   \n",
       "1165990           0.0                          1492            0.0       0.00   \n",
       "1165991           0.0                          1576            0.0       0.00   \n",
       "1165992           0.0                          1344            0.0       0.00   \n",
       "1165993           0.0                          1921            0.0       0.00   \n",
       "1165994           0.0                          1492            0.0       0.00   \n",
       "1165995           0.0                          1562            0.0       0.00   \n",
       "1165996           0.0                          1332            0.0       0.00   \n",
       "1165997           0.0                          1921            0.0       0.00   \n",
       "1165998           0.0                          1492            0.0       0.00   \n",
       "1165999           0.0                          1576            0.0       0.00   \n",
       "1166000           0.0                          1344            0.0       0.00   \n",
       "1166001           0.0                          1921            0.0       0.00   \n",
       "1166002           0.0                          1492            0.0       0.00   \n",
       "1166003           0.0                          1562            0.0       0.00   \n",
       "1166004           0.0                          1332            0.0       0.00   \n",
       "1166005           0.0                          1921            0.0       0.00   \n",
       "1166006           0.0                          1492            0.0       0.00   \n",
       "1166007           0.0                          1576            0.0       0.00   \n",
       "1166008           0.0                          1344            0.0       0.00   \n",
       "\n",
       "         Closed Roll Misc. Exemption Value  \\\n",
       "0                                      0.0   \n",
       "1                                      0.0   \n",
       "2                                      0.0   \n",
       "3                                      0.0   \n",
       "4                                      0.0   \n",
       "5                                      0.0   \n",
       "6                                      0.0   \n",
       "7                                      0.0   \n",
       "8                                      0.0   \n",
       "9                                      0.0   \n",
       "10                                     0.0   \n",
       "11                                     0.0   \n",
       "12                                     0.0   \n",
       "13                                     0.0   \n",
       "14                                     0.0   \n",
       "15                                     0.0   \n",
       "16                               3595974.0   \n",
       "17                                     0.0   \n",
       "18                                     0.0   \n",
       "19                                     0.0   \n",
       "20                                     0.0   \n",
       "21                                     0.0   \n",
       "22                                     0.0   \n",
       "23                                     0.0   \n",
       "24                                     0.0   \n",
       "25                                     0.0   \n",
       "26                                     0.0   \n",
       "27                                     0.0   \n",
       "28                                     0.0   \n",
       "29                                     0.0   \n",
       "...                                    ...   \n",
       "1165979                                0.0   \n",
       "1165980                                0.0   \n",
       "1165981                                0.0   \n",
       "1165982                                0.0   \n",
       "1165983                                0.0   \n",
       "1165984                                0.0   \n",
       "1165985                                0.0   \n",
       "1165986                                0.0   \n",
       "1165987                                0.0   \n",
       "1165988                                0.0   \n",
       "1165989                                0.0   \n",
       "1165990                                0.0   \n",
       "1165991                                0.0   \n",
       "1165992                                0.0   \n",
       "1165993                                0.0   \n",
       "1165994                                0.0   \n",
       "1165995                                0.0   \n",
       "1165996                                0.0   \n",
       "1165997                                0.0   \n",
       "1165998                                0.0   \n",
       "1165999                                0.0   \n",
       "1166000                                0.0   \n",
       "1166001                                0.0   \n",
       "1166002                                0.0   \n",
       "1166003                                0.0   \n",
       "1166004                                0.0   \n",
       "1166005                                0.0   \n",
       "1166006                                0.0   \n",
       "1166007                                0.0   \n",
       "1166008                                0.0   \n",
       "\n",
       "         Closed Roll Homeowner Exemption Value  \\\n",
       "0                                          0.0   \n",
       "1                                          0.0   \n",
       "2                                          0.0   \n",
       "3                                          0.0   \n",
       "4                                          0.0   \n",
       "5                                          0.0   \n",
       "6                                          0.0   \n",
       "7                                          0.0   \n",
       "8                                          0.0   \n",
       "9                                          0.0   \n",
       "10                                         0.0   \n",
       "11                                         0.0   \n",
       "12                                         0.0   \n",
       "13                                         0.0   \n",
       "14                                         0.0   \n",
       "15                                         0.0   \n",
       "16                                         0.0   \n",
       "17                                         0.0   \n",
       "18                                         0.0   \n",
       "19                                         0.0   \n",
       "20                                         0.0   \n",
       "21                                         0.0   \n",
       "22                                         0.0   \n",
       "23                                         0.0   \n",
       "24                                         0.0   \n",
       "25                                         0.0   \n",
       "26                                         0.0   \n",
       "27                                         0.0   \n",
       "28                                      7000.0   \n",
       "29                                         0.0   \n",
       "...                                        ...   \n",
       "1165979                                 7000.0   \n",
       "1165980                                    0.0   \n",
       "1165981                                 7000.0   \n",
       "1165982                                 7000.0   \n",
       "1165983                                    0.0   \n",
       "1165984                                    0.0   \n",
       "1165985                                    0.0   \n",
       "1165986                                    0.0   \n",
       "1165987                                    0.0   \n",
       "1165988                                 7000.0   \n",
       "1165989                                    0.0   \n",
       "1165990                                    0.0   \n",
       "1165991                                 7000.0   \n",
       "1165992                                    0.0   \n",
       "1165993                                    0.0   \n",
       "1165994                                    0.0   \n",
       "1165995                                 7000.0   \n",
       "1165996                                 7000.0   \n",
       "1165997                                    0.0   \n",
       "1165998                                    0.0   \n",
       "1165999                                 7000.0   \n",
       "1166000                                 7000.0   \n",
       "1166001                                    0.0   \n",
       "1166002                                    0.0   \n",
       "1166003                                    0.0   \n",
       "1166004                                    0.0   \n",
       "1166005                                 7000.0   \n",
       "1166006                                    0.0   \n",
       "1166007                                    0.0   \n",
       "1166008                                    0.0   \n",
       "\n",
       "         Closed Roll Assessed Improvement Value  \\\n",
       "0                                    52020000.0   \n",
       "1                                     3959693.0   \n",
       "2                                      655352.0   \n",
       "3                                      725764.0   \n",
       "4                                      349138.0   \n",
       "5                                      160697.0   \n",
       "6                                      397825.0   \n",
       "7                                      455053.0   \n",
       "8                                      185350.0   \n",
       "9                                     1960955.0   \n",
       "10                                    2699866.0   \n",
       "11                                    1947595.0   \n",
       "12                                     210778.0   \n",
       "13                                     365576.0   \n",
       "14                                     697092.0   \n",
       "15                                   42314877.0   \n",
       "16                                    5677743.0   \n",
       "17                                    3307277.0   \n",
       "18                                    2748824.0   \n",
       "19                                     884476.0   \n",
       "20                                    2298628.0   \n",
       "21                                   21791864.0   \n",
       "22                                     604345.0   \n",
       "23                                   25935025.0   \n",
       "24                                    2811734.0   \n",
       "25                                    1215646.0   \n",
       "26                                          0.0   \n",
       "27                                     728280.0   \n",
       "28                                     363499.0   \n",
       "29                                     328585.0   \n",
       "...                                         ...   \n",
       "1165979                                535925.0   \n",
       "1165980                                672000.0   \n",
       "1165981                                909375.0   \n",
       "1165982                                631000.0   \n",
       "1165983                                509250.0   \n",
       "1165984                                638500.0   \n",
       "1165985                                945000.0   \n",
       "1165986                                681750.0   \n",
       "1165987                                557500.0   \n",
       "1165988                                677000.0   \n",
       "1165989                                942500.0   \n",
       "1165990                                636000.0   \n",
       "1165991                                520000.0   \n",
       "1165992                                644000.0   \n",
       "1165993                                921500.0   \n",
       "1165994                                700000.0   \n",
       "1165995                                545625.0   \n",
       "1165996                                647434.0   \n",
       "1165997                                912500.0   \n",
       "1165998                                641000.0   \n",
       "1165999                                509250.0   \n",
       "1166000                                649000.0   \n",
       "1166001                               1278204.0   \n",
       "1166002                                993537.0   \n",
       "1166003                               1038193.0   \n",
       "1166004                                887486.0   \n",
       "1166005                                889000.0   \n",
       "1166006                                656500.0   \n",
       "1166007                                523800.0   \n",
       "1166008                                611000.0   \n",
       "\n",
       "         Log Closed Roll Assessed Improvement Value  \n",
       "0                                         17.767139  \n",
       "1                                         15.191677  \n",
       "2                                         13.392929  \n",
       "3                                         13.494982  \n",
       "4                                         12.763225  \n",
       "5                                         11.987282  \n",
       "6                                         12.893770  \n",
       "7                                         13.028171  \n",
       "8                                         12.130007  \n",
       "9                                         14.488943  \n",
       "10                                        14.808713  \n",
       "11                                        14.482106  \n",
       "12                                        12.258565  \n",
       "13                                        12.809232  \n",
       "14                                        13.454674  \n",
       "15                                        17.560649  \n",
       "16                                        15.552065  \n",
       "17                                        15.011636  \n",
       "18                                        14.826684  \n",
       "19                                        13.692752  \n",
       "20                                        14.647823  \n",
       "21                                        16.897047  \n",
       "22                                        13.311902  \n",
       "23                                        17.071105  \n",
       "24                                        14.849312  \n",
       "25                                        14.010787  \n",
       "26                                         0.000000  \n",
       "27                                        13.498442  \n",
       "28                                        12.803535  \n",
       "29                                        12.702554  \n",
       "...                                             ...  \n",
       "1165979                                   13.191751  \n",
       "1165980                                   13.418015  \n",
       "1165981                                   13.720514  \n",
       "1165982                                   13.355063  \n",
       "1165983                                   13.140696  \n",
       "1165984                                   13.366879  \n",
       "1165985                                   13.758941  \n",
       "1165986                                   13.432420  \n",
       "1165987                                   13.231220  \n",
       "1165988                                   13.425428  \n",
       "1165989                                   13.756292  \n",
       "1165990                                   13.362955  \n",
       "1165991                                   13.161586  \n",
       "1165992                                   13.375456  \n",
       "1165993                                   13.733759  \n",
       "1165994                                   13.458837  \n",
       "1165995                                   13.209689  \n",
       "1165996                                   13.380774  \n",
       "1165997                                   13.723944  \n",
       "1165998                                   13.370786  \n",
       "1165999                                   13.140696  \n",
       "1166000                                   13.383190  \n",
       "1166001                                   14.060967  \n",
       "1166002                                   13.809028  \n",
       "1166003                                   13.852993  \n",
       "1166004                                   13.696149  \n",
       "1166005                                   13.697854  \n",
       "1166006                                   13.394679  \n",
       "1166007                                   13.168867  \n",
       "1166008                                   13.322854  \n",
       "\n",
       "[1166009 rows x 15 columns]"
      ]
     },
     "execution_count": 617,
     "metadata": {},
     "output_type": "execute_result"
    }
   ],
   "source": [
    "# Split target and predictor Dataframe\n",
    "ass_y = np.log1p(assessor['Closed Roll Assessed Land Value'].reset_index(drop=True))\n",
    "ass_X = assessor.ix[:,~assessor.columns.isin(['Closed Roll Assessed Land Value'])].reset_index(drop=True)\n",
    "ass_X"
   ]
  },
  {
   "cell_type": "code",
   "execution_count": 618,
   "metadata": {
    "collapsed": false
   },
   "outputs": [
    {
     "name": "stdout",
     "output_type": "stream",
     "text": [
      "Baseline:  1.22523227938\n",
      "Training:  0.745142320143\n",
      "Testing:  0.74402597855\n",
      "R^2 0.6312437928\n"
     ]
    }
   ],
   "source": [
    "# Linear Regression\n",
    "ass_X_train, ass_X_test, ass_y_train, ass_y_test = train_test_split(ass_X, ass_y)\n",
    "ass_lr = linear_model.LinearRegression()\n",
    "ass_lr.fit(ass_X_train, ass_y_train)\n",
    "ass_y_pred = ass_lr.predict(ass_X_test)\n",
    "ass_lr_score = ass_lr.score(ass_X_test, ass_y_test)\n",
    "\n",
    "ass_y_test_mean = np.mean(ass_y_test)\n",
    "print 'Baseline: ', np.sqrt(mean_squared_error(ass_y_test, [ass_y_test_mean for x in ass_y_test]))\n",
    "print 'Training: ', np.sqrt(mean_squared_error(ass_y_train, ass_lr.predict(ass_X_train)))\n",
    "print 'Testing: ', np.sqrt(mean_squared_error(ass_y_test, ass_lr.predict(ass_X_test)))\n",
    "print 'R^2', ass_lr_score"
   ]
  },
  {
   "cell_type": "code",
   "execution_count": 620,
   "metadata": {
    "collapsed": false
   },
   "outputs": [
    {
     "data": {
      "text/plain": [
       "<matplotlib.axes._subplots.AxesSubplot at 0x1a9523610>"
      ]
     },
     "execution_count": 620,
     "metadata": {},
     "output_type": "execute_result"
    },
    {
     "data": {
      "image/png": "[encoded data removed]",
      "text/plain": [
       "<matplotlib.figure.Figure at 0x129abe490>"
      ]
     },
     "metadata": {},
     "output_type": "display_data"
    }
   ],
   "source": [
    "sns.regplot(ass_y_pred, ass_y_test)"
   ]
  },
  {
   "cell_type": "markdown",
   "metadata": {},
   "source": [
    "Looks like there is a subset of predictions that are way off. These might be worth investigating to see where the model went wrong."
   ]
  },
  {
   "cell_type": "code",
   "execution_count": 621,
   "metadata": {
    "collapsed": false
   },
   "outputs": [
    {
     "name": "stdout",
     "output_type": "stream",
     "text": [
      "Lambda Value: 0.001\n",
      "Baseline 1.22523227938\n",
      "Training:  0.745142320143\n",
      "Testing:  0.74402597855\n",
      "R^2:  0.631243792799\n"
     ]
    }
   ],
   "source": [
    "# Ridge Regression\n",
    "ass_ridge = linear_model.RidgeCV(alphas=[0.001,0.01,0.1,1,10,100], cv=3)\n",
    "ass_ridge.fit(ass_X_train, ass_y_train)\n",
    "\n",
    "ass_y_train_ridge_pred = ass_ridge.predict(ass_X_train)\n",
    "ass_y_test_ridge_pred = ass_ridge.predict(ass_X_test)\n",
    "ass_ridge_score = ass_ridge.score(ass_X_test, ass_y_test)\n",
    "\n",
    "print \"Lambda Value:\", ass_ridge.alpha_\n",
    "print 'Baseline', np.sqrt(mean_squared_error(ass_y_test, [ass_y_test_mean for x in ass_y_test]))\n",
    "print 'Training: ', np.sqrt(mean_squared_error(ass_y_train, ass_y_train_ridge_pred))\n",
    "print 'Testing: ', np.sqrt(mean_squared_error(ass_y_test, ass_y_test_ridge_pred))\n",
    "print 'R^2: ', ass_ridge_score"
   ]
  },
  {
   "cell_type": "code",
   "execution_count": 623,
   "metadata": {
    "collapsed": false
   },
   "outputs": [
    {
     "data": {
      "text/plain": [
       "<matplotlib.axes._subplots.AxesSubplot at 0x19f2bde10>"
      ]
     },
     "execution_count": 623,
     "metadata": {},
     "output_type": "execute_result"
    },
    {
     "data": {
      "image/png": "[encoded data removed]",
      "text/plain": [
       "<matplotlib.figure.Figure at 0x196fe0110>"
      ]
     },
     "metadata": {},
     "output_type": "display_data"
    }
   ],
   "source": [
    "sns.regplot(ass_y_test_ridge_pred, ass_y_test)"
   ]
  },
  {
   "cell_type": "code",
   "execution_count": 622,
   "metadata": {
    "collapsed": false
   },
   "outputs": [
    {
     "name": "stdout",
     "output_type": "stream",
     "text": [
      "Lambda Value: 0.001\n",
      "Baseline 1.22523227938\n",
      "Training:  0.745142320143\n",
      "Testing:  0.74402597855\n",
      "R^2:  0.631243792799\n"
     ]
    }
   ],
   "source": [
    "# Lasso Regression\n",
    "ass_lasso = linear_model.RidgeCV(alphas=[0.001,0.01,0.1,1,10,100], cv=3)\n",
    "ass_lasso.fit(ass_X_train, ass_y_train)\n",
    "\n",
    "ass_y_train_lasso_pred = ass_lasso.predict(ass_X_train)\n",
    "ass_y_test_lasso_pred = ass_lasso.predict(ass_X_test)\n",
    "ass_lasso_score = ass_lasso.score(ass_X_test, ass_y_test)\n",
    "\n",
    "print \"Lambda Value:\", ass_lasso.alpha_\n",
    "print 'Baseline', np.sqrt(mean_squared_error(ass_y_test, [ass_y_test_mean for x in ass_y_test]))\n",
    "print 'Training: ', np.sqrt(mean_squared_error(ass_y_train, ass_y_train_lasso_pred))\n",
    "print 'Testing: ', np.sqrt(mean_squared_error(ass_y_test, ass_y_test_lasso_pred))\n",
    "print 'R^2: ', ass_lasso_score"
   ]
  },
  {
   "cell_type": "code",
   "execution_count": 624,
   "metadata": {
    "collapsed": false
   },
   "outputs": [
    {
     "data": {
      "text/plain": [
       "<matplotlib.axes._subplots.AxesSubplot at 0x197050890>"
      ]
     },
     "execution_count": 624,
     "metadata": {},
     "output_type": "execute_result"
    },
    {
     "data": {
      "image/png": "[encoded data removed]",
      "text/plain": [
       "<matplotlib.figure.Figure at 0x196fc5c50>"
      ]
     },
     "metadata": {},
     "output_type": "display_data"
    }
   ],
   "source": [
    "sns.regplot(ass_y_test_lasso_pred, ass_y_test)"
   ]
  },
  {
   "cell_type": "markdown",
   "metadata": {},
   "source": [
    "It appears that there is not much difference in performance between the various models. Apparently the optimal amount of regularization is quite small, which is shown by the small lamdba values selected by gridsearch."
   ]
  },
  {
   "cell_type": "markdown",
   "metadata": {},
   "source": [
    "<img src=\"http://imgur.com/xDpSobf.png\" style=\"float: left; margin: 25px 15px 0px 0px; height: 25px\">\n",
    "\n",
    "### 4.2 Ploting GridSearch with Lasso, Ridge, or Elasticnet\n",
    "---\n",
    "1. Using the gridsearch results, plot your score in relation to your parameters.\n",
    "1. Plot the effect on your coefficients given alpha.\n",
    "1. Plot any other parameter change to visualize the impact of any other hyperparameter.\n",
    "\n",
    "It's helpful to understand the impact of parameters used in Gridsearch, and that you are comfortable working with the data that is generated for reporting to explore the results visually."
   ]
  },
  {
   "cell_type": "code",
   "execution_count": 659,
   "metadata": {
    "collapsed": false
   },
   "outputs": [],
   "source": [
    "# Park Ridge regression coefficients as a function of hyperparameter alpha\n",
    "alphas = np.logspace(-1, 3, 20)\n",
    "ass_coef = linear_model.Ridge()\n",
    "\n",
    "coefs = []\n",
    "for a in alphas:\n",
    "    ass_coef.set_params(alpha=a)\n",
    "    ass_coef.fit(park_predictor, park_y)\n",
    "    coefs.append(ass_coef.coef_)"
   ]
  },
  {
   "cell_type": "code",
   "execution_count": 716,
   "metadata": {
    "collapsed": false
   },
   "outputs": [
    {
     "data": {
      "image/png": "[encoded data removed]",
      "text/plain": [
       "<matplotlib.figure.Figure at 0x17b4b0610>"
      ]
     },
     "metadata": {},
     "output_type": "display_data"
    }
   ],
   "source": [
    "# Ridge Regression Plot\n",
    "ax = plt.gca()\n",
    "\n",
    "ax.plot(alphas, coefs)\n",
    "ax.set_xscale('log')\n",
    "plt.xlabel('Alphas')\n",
    "plt.ylabel('Weights')\n",
    "plt.title('Ridge coefficients as a function of regularization (alphas)')\n",
    "plt.show()"
   ]
  },
  {
   "cell_type": "markdown",
   "metadata": {},
   "source": [
    "<img src=\"http://imgur.com/GCAf1UX.png\" style=\"float: left; margin: 25px 15px 0px 0px; height: 25px\">\n",
    "\n",
    "## 5. Bias-variance tradeoff\n",
    "\n",
    "---\n",
    "\n",
    "1. Select San Francisco data of your choice and construct a regularized regression model (this can be data from an earlier analysis if you like). Ideally the model should actually improve across regularization strengths...\n",
    "- Gridsearch the regularization parameters to find the optimal.\n",
    "- Plot the regularization parameter against the cross-validated $R^2$.\n",
    "- Explain how regularization and regularization strength is related to the bias-variance tradeoff.\n"
   ]
  },
  {
   "cell_type": "markdown",
   "metadata": {},
   "source": [
    "<img src=\"http://imgur.com/xDpSobf.png\" style=\"float: left; margin: 25px 15px 0px 0px; height: 25px\">\n",
    "\n",
    "### 5.1 Calculate the approximated $\\text{bias}^2$ and variance across regularization strengths.\n",
    "\n",
    "---\n",
    "\n",
    "You can obviously use my code from the bias-variance lab to do this. \n",
    "\n",
    "Plot the bias and variance change _with_ the cross-validated $R^2$. \n",
    "\n",
    "You'll need to scale these values somehow to put them on the same chart (I recommend (MinMaxScaler)[http://scikit-learn.org/stable/modules/generated/sklearn.preprocessing.MinMaxScaler.html] to put $\\text{bias}^2$ and variance on the same scale as cross-validated $R^2$."
   ]
  },
  {
   "cell_type": "markdown",
   "metadata": {},
   "source": [
    "<img src=\"http://imgur.com/HNPKfE8.png\" style=\"float: left; margin: 25px 15px 0px 0px; height: 25px\">\n",
    "\n",
    "## 6. Custom regularized regression penalties\n",
    "\n",
    "---\n",
    "\n",
    "The $\\lambda1$ and $\\lambda2$ norm regularization penalties (Lasso and Ridge) are the most commonly used regularization penalties. They have a solid foundation in statistics and evidence of effectiveness. However, these are not the only possible penalties for regression – sometimes new, customized penalties give additional performance and predictive power to models depending on the context.\n",
    "\n",
    "\n",
    "**Devise of and implement a penalized regression for San Francisco data.** What is your rationale – why would this be useful? How does it perform compared to the standard Ridge, Lasso, and Elastic Net penalties?"
   ]
  },
  {
   "cell_type": "markdown",
   "metadata": {
    "collapsed": true
   },
   "source": [
    "## Statistics, Biases, and Hypothesis Testing"
   ]
  },
  {
   "cell_type": "markdown",
   "metadata": {},
   "source": [
    "<img src=\"http://imgur.com/l5NasQj.png\" style=\"float: left; margin: 25px 15px 0px 0px; height: 25px\">\n",
    "\n",
    "## 7. Biases \n",
    "\n",
    "---\n",
    "A new food ordering smartphone app incentivizes its users to invite their friends by offering them free orders for each friend that signs up\n",
    "1. What biases are being caused here?\n",
    "2. How would you measure the success of such a program?\n",
    "3. Rephrase this question to be unbiased\n",
    "4. Many people have said that there is a need for stricter laws on dangerous weapons. Do you agree?"
   ]
  },
  {
   "cell_type": "markdown",
   "metadata": {},
   "source": [
    "1. The types of users that the app will receive are likely to tech savvy and also in the social circles of people who tend to use new technology, which means that it might not be representative of the population as a whole. Also, the incentives are aligned such that it encourages people who care about free orders (i.e. economically conscious and use the app a lot).\n",
    "2. I would measure the success by the amount of revenue gained against the resources spent to give people free orders. Since, their friends are not required to order, but just to sign up, it seems possible that this promotion might actually lose money without attracting new, **active** users.\n",
    "3. It's a statement, not a question...\n",
    "4. Yes, though I may be bias because I grew up in a community where gun ownership was frowned upon. Pretty sure however, that the data bears out the fact that increased gun ownership increases the likelihood of violent crime."
   ]
  },
  {
   "cell_type": "markdown",
   "metadata": {},
   "source": [
    "<img src=\"http://imgur.com/l5NasQj.png\" style=\"float: left; margin: 25px 15px 0px 0px; height: 25px\">\n",
    "\n",
    "## 8. Hypothesis Testing \n",
    "\n",
    "---\n",
    "\n",
    "For the health/mortality data that Ferris used in class: \n",
    "- Generate summary statistics, histogram plots, cdf plots, and confidence intervals for two columns of your choice and a correlation matrix across all\n",
    "- Using what you generated, provide short summaries of each column describing the data\n",
    "- Is there a difference in mortality between smokers, nonsmokers?\n",
    "- If national average weight is 85 pounds, is our weight average significantly different?\n",
    "- Until now, we’ve only asked is it different. This is called a two sided test. \n",
    "    - What if we want to know if its less than or greater than? This is called a one sided test. We can calculate this from the result of a two sided. You divide your p value in half and check if your t statistic is positive or negative Greater than: p/2 < confidence level and t > 0 and Less-than: p/2 < confidence level and t < 0.\n",
    "    \n",
    "    - If national average weight is 85 pounds, is our weight average statistical significantly less?"
   ]
  },
  {
   "cell_type": "code",
   "execution_count": 661,
   "metadata": {
    "collapsed": true
   },
   "outputs": [],
   "source": [
    "health_data = pd.read_csv('http://assets.datacamp.com/blog_assets/chol.txt', sep=' ')"
   ]
  },
  {
   "cell_type": "code",
   "execution_count": 664,
   "metadata": {
    "collapsed": false
   },
   "outputs": [],
   "source": [
    "health_HW = health_data[['HEIGHT', 'WEIGHT']]"
   ]
  },
  {
   "cell_type": "code",
   "execution_count": 665,
   "metadata": {
    "collapsed": false
   },
   "outputs": [
    {
     "data": {
      "text/html": [
       "<div>\n",
       "<table border=\"1\" class=\"dataframe\">\n",
       "  <thead>\n",
       "    <tr style=\"text-align: right;\">\n",
       "      <th></th>\n",
       "      <th>HEIGHT</th>\n",
       "      <th>WEIGHT</th>\n",
       "    </tr>\n",
       "  </thead>\n",
       "  <tbody>\n",
       "    <tr>\n",
       "      <th>count</th>\n",
       "      <td>200.00000</td>\n",
       "      <td>200.000000</td>\n",
       "    </tr>\n",
       "    <tr>\n",
       "      <th>mean</th>\n",
       "      <td>172.35000</td>\n",
       "      <td>75.885000</td>\n",
       "    </tr>\n",
       "    <tr>\n",
       "      <th>std</th>\n",
       "      <td>6.77399</td>\n",
       "      <td>10.442076</td>\n",
       "    </tr>\n",
       "    <tr>\n",
       "      <th>min</th>\n",
       "      <td>156.00000</td>\n",
       "      <td>53.000000</td>\n",
       "    </tr>\n",
       "    <tr>\n",
       "      <th>25%</th>\n",
       "      <td>168.00000</td>\n",
       "      <td>68.750000</td>\n",
       "    </tr>\n",
       "    <tr>\n",
       "      <th>50%</th>\n",
       "      <td>172.00000</td>\n",
       "      <td>75.000000</td>\n",
       "    </tr>\n",
       "    <tr>\n",
       "      <th>75%</th>\n",
       "      <td>176.00000</td>\n",
       "      <td>82.000000</td>\n",
       "    </tr>\n",
       "    <tr>\n",
       "      <th>max</th>\n",
       "      <td>191.00000</td>\n",
       "      <td>110.000000</td>\n",
       "    </tr>\n",
       "  </tbody>\n",
       "</table>\n",
       "</div>"
      ],
      "text/plain": [
       "          HEIGHT      WEIGHT\n",
       "count  200.00000  200.000000\n",
       "mean   172.35000   75.885000\n",
       "std      6.77399   10.442076\n",
       "min    156.00000   53.000000\n",
       "25%    168.00000   68.750000\n",
       "50%    172.00000   75.000000\n",
       "75%    176.00000   82.000000\n",
       "max    191.00000  110.000000"
      ]
     },
     "execution_count": 665,
     "metadata": {},
     "output_type": "execute_result"
    }
   ],
   "source": [
    "# Summary Statistics\n",
    "health_HW.describe()"
   ]
  },
  {
   "cell_type": "code",
   "execution_count": 684,
   "metadata": {
    "collapsed": false
   },
   "outputs": [
    {
     "data": {
      "text/plain": [
       "<matplotlib.axes._subplots.AxesSubplot at 0x16eeb57d0>"
      ]
     },
     "execution_count": 684,
     "metadata": {},
     "output_type": "execute_result"
    },
    {
     "data": {
      "image/png": "[encoded data removed]",
      "text/plain": [
       "<matplotlib.figure.Figure at 0x146d6c8d0>"
      ]
     },
     "metadata": {},
     "output_type": "display_data"
    }
   ],
   "source": [
    "# Height Histogram\n",
    "height = health_HW['HEIGHT']\n",
    "sns.distplot(height, kde=False)"
   ]
  },
  {
   "cell_type": "code",
   "execution_count": 670,
   "metadata": {
    "collapsed": false
   },
   "outputs": [
    {
     "data": {
      "text/plain": [
       "<matplotlib.axes._subplots.AxesSubplot at 0x12b940dd0>"
      ]
     },
     "execution_count": 670,
     "metadata": {},
     "output_type": "execute_result"
    },
    {
     "data": {
      "image/png": "[encoded data removed]",
      "text/plain": [
       "<matplotlib.figure.Figure at 0x12b95a690>"
      ]
     },
     "metadata": {},
     "output_type": "display_data"
    }
   ],
   "source": [
    "# Weight Histogram\n",
    "weight = health_HW['WEIGHT']\n",
    "sns.distplot(weight, kde=False)"
   ]
  },
  {
   "cell_type": "code",
   "execution_count": 685,
   "metadata": {
    "collapsed": false
   },
   "outputs": [
    {
     "data": {
      "text/plain": [
       "[<matplotlib.lines.Line2D at 0x1905c5710>]"
      ]
     },
     "execution_count": 685,
     "metadata": {},
     "output_type": "execute_result"
    },
    {
     "data": {
      "image/png": "[encoded data removed]",
      "text/plain": [
       "<matplotlib.figure.Figure at 0x17b4b78d0>"
      ]
     },
     "metadata": {},
     "output_type": "display_data"
    }
   ],
   "source": [
    "# Weight CDF Plot\n",
    "from __future__ import division\n",
    "uni_height = height.unique()\n",
    "uni_height.sort()\n",
    "cdf_height = [sum(height < h)/len(height) for h in uni_height]\n",
    "\n",
    "plt.plot(uni_height, cdf_height)"
   ]
  },
  {
   "cell_type": "code",
   "execution_count": 682,
   "metadata": {
    "collapsed": false
   },
   "outputs": [
    {
     "data": {
      "text/plain": [
       "[<matplotlib.lines.Line2D at 0x148330310>]"
      ]
     },
     "execution_count": 682,
     "metadata": {},
     "output_type": "execute_result"
    },
    {
     "data": {
      "image/png": "[encoded data removed]",
      "text/plain": [
       "<matplotlib.figure.Figure at 0x146d6c590>"
      ]
     },
     "metadata": {},
     "output_type": "display_data"
    }
   ],
   "source": [
    "# Weight CDF Plot\n",
    "from __future__ import division\n",
    "uni_weight = weight.unique()\n",
    "uni_weight.sort()\n",
    "cdf_weight = [sum(weight < w)/len(weight) for w in uni_weight]\n",
    "plt.plot(uni_weight, cdf_weight)"
   ]
  },
  {
   "cell_type": "code",
   "execution_count": 695,
   "metadata": {
    "collapsed": false
   },
   "outputs": [],
   "source": [
    "# Set up Mortality\n",
    "health_data.ix[:, 'MORT'] = health_data.ix[:, 'MORT'].replace(to_replace={'alive': 1, 'dead': 0})\n",
    "health_data['SMOKER'] = health_data.ix[:, 'SMOKE'].replace(to_replace={'nonsmo': 0, 'pipe': 1, 'sigare': 1})"
   ]
  },
  {
   "cell_type": "code",
   "execution_count": 696,
   "metadata": {
    "collapsed": false
   },
   "outputs": [
    {
     "data": {
      "text/plain": [
       "SMOKER\n",
       "0    0.918367\n",
       "1    0.867550\n",
       "Name: MORT, dtype: float64"
      ]
     },
     "execution_count": 696,
     "metadata": {},
     "output_type": "execute_result"
    }
   ],
   "source": [
    "# Mortality: Smokers vs Non Smokers\n",
    "health_data.groupby('SMOKER')['MORT'].mean()"
   ]
  },
  {
   "cell_type": "code",
   "execution_count": 701,
   "metadata": {
    "collapsed": false
   },
   "outputs": [
    {
     "data": {
      "text/plain": [
       "Ttest_1sampResult(statistic=-12.344821194685455, pvalue=2.2901936138582111e-26)"
      ]
     },
     "execution_count": 701,
     "metadata": {},
     "output_type": "execute_result"
    }
   ],
   "source": [
    "# Two tailed T-test for weight\n",
    "stats.ttest_1samp(weight, 85)"
   ]
  },
  {
   "cell_type": "markdown",
   "metadata": {},
   "source": [
    "Since our p-vale is so small, we can be reasonably sure that our sample weight is significantly differently than the national average. Seeing that the T-statistic is negative and p/2 is even smaller than our original p, we state that our mean weight is significantly less than the national average."
   ]
  }
 ],
 "metadata": {
  "anaconda-cloud": {},
  "kernelspec": {
   "display_name": "Python [dsi]",
   "language": "python",
   "name": "Python [dsi]"
  },
  "language_info": {
   "codemirror_mode": {
    "name": "ipython",
    "version": 2
   },
   "file_extension": ".py",
   "mimetype": "text/x-python",
   "name": "python",
   "nbconvert_exporter": "python",
   "pygments_lexer": "ipython2",
   "version": "2.7.12"
  }
 },
 "nbformat": 4,
 "nbformat_minor": 0
}
